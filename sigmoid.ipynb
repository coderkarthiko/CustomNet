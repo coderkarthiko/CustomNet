{
 "cells": [
  {
   "cell_type": "markdown",
   "metadata": {},
   "source": [
    "## mnist digit recogniton "
   ]
  },
  {
   "cell_type": "code",
   "execution_count": 1,
   "metadata": {},
   "outputs": [],
   "source": [
    "import customnet as cn\n",
    "import numpy as np\n",
    "from tensorflow.keras.datasets import mnist"
   ]
  },
  {
   "cell_type": "code",
   "execution_count": 2,
   "metadata": {},
   "outputs": [],
   "source": [
    "(x_train, y_train), (x_test, y_test) = mnist.load_data()\n",
    "\n",
    "x_train, x_test = x_train.reshape((60000, 784)) / 255.0, x_test.reshape((10000, 784)) / 255.0\n",
    "y_train_ohv, y_test_ohv = np.zeros((60000, 10)), np.zeros((10000, 10))\n",
    "\n",
    "for i in range(60000):\n",
    "    y_train_ohv[i][y_train[i]] = 1\n",
    "for i in range(10000):\n",
    "    y_test_ohv[i][y_test[i]] = 1"
   ]
  },
  {
   "cell_type": "code",
   "execution_count": 3,
   "metadata": {},
   "outputs": [],
   "source": [
    "def mnist_accuracy(model):\n",
    "    count_test = 0\n",
    "    for i in range(10000):\n",
    "        test_out = model.forward(x_test[i])\n",
    "        test_pred = np.argmax(test_out)\n",
    "        count_test += int(test_pred == y_test[i])\n",
    "    print(f'test acc - {(count_test / 10000) * 100} %')"
   ]
  },
  {
   "cell_type": "markdown",
   "metadata": {},
   "source": [
    "## set 1"
   ]
  },
  {
   "cell_type": "code",
   "execution_count": 4,
   "metadata": {},
   "outputs": [
    {
     "name": "stderr",
     "output_type": "stream",
     "text": [
      "100%|██████████████████████████████████████████████████████████████████████████████| 200/200 [2:16:06<00:00, 40.83s/it]\n"
     ]
    },
    {
     "name": "stdout",
     "output_type": "stream",
     "text": [
      "test acc - 96.91 %\n"
     ]
    }
   ],
   "source": [
    "model = cn.Model([784, 64, 64, 10], ['sigmoid', 'sigmoid', 'sigmoid'], [1e-9, 1e-8])\n",
    "\n",
    "model.momentum(\n",
    "    x_train[:60000], \n",
    "    y_train_ohv[:60000],\n",
    "    batch_size=10,\n",
    "    loss_fn='ce',\n",
    "    alpha=1e-1,\n",
    "    beta=0.99,\n",
    "    epochs=200)\n",
    "\n",
    "mnist_accuracy(model) "
   ]
  },
  {
   "cell_type": "markdown",
   "metadata": {},
   "source": [
    "## set 2"
   ]
  },
  {
   "cell_type": "code",
   "execution_count": 5,
   "metadata": {},
   "outputs": [
    {
     "name": "stderr",
     "output_type": "stream",
     "text": [
      "100%|██████████████████████████████████████████████████████████████████████████████| 5000/5000 [55:57<00:00,  1.49it/s]\n"
     ]
    },
    {
     "name": "stdout",
     "output_type": "stream",
     "text": [
      "test acc - 83.97 %\n"
     ]
    }
   ],
   "source": [
    "model = cn.Model([784, 64, 64, 10], ['sigmoid', 'sigmoid', 'sigmoid'], [1e-10, 1e-9])\n",
    "\n",
    "model.momentum(\n",
    "    x_train[:1000], \n",
    "    y_train_ohv[:1000],\n",
    "    batch_size=10,\n",
    "    loss_fn='ce',\n",
    "    alpha=1e-1,\n",
    "    beta=0.99,\n",
    "    epochs=5000)\n",
    "\n",
    "mnist_accuracy(model) "
   ]
  },
  {
   "cell_type": "markdown",
   "metadata": {},
   "source": [
    "## set 3"
   ]
  },
  {
   "cell_type": "code",
   "execution_count": 6,
   "metadata": {},
   "outputs": [
    {
     "name": "stderr",
     "output_type": "stream",
     "text": [
      "100%|████████████████████████████████████████████████████████████████████████████| 1000/1000 [2:04:00<00:00,  7.44s/it]\n"
     ]
    },
    {
     "name": "stdout",
     "output_type": "stream",
     "text": [
      "test acc - 94.46 %\n"
     ]
    }
   ],
   "source": [
    "model = cn.Model([784, 64, 64, 10], ['sigmoid', 'sigmoid', 'sigmoid'], [1e-9, 1e-8])\n",
    "\n",
    "model.momentum(\n",
    "    x_train[:10000], \n",
    "    y_train_ohv[:10000],\n",
    "    batch_size=10,\n",
    "    loss_fn='ce',\n",
    "    alpha=1e-1,\n",
    "    beta=0.99,\n",
    "    epochs=1000)\n",
    "\n",
    "mnist_accuracy(model) "
   ]
  },
  {
   "cell_type": "markdown",
   "metadata": {},
   "source": [
    "## set 4"
   ]
  },
  {
   "cell_type": "code",
   "execution_count": 7,
   "metadata": {},
   "outputs": [
    {
     "name": "stderr",
     "output_type": "stream",
     "text": [
      "100%|██████████████████████████████████████████████████████████████████████████████| 5000/5000 [58:27<00:00,  1.43it/s]\n"
     ]
    },
    {
     "name": "stdout",
     "output_type": "stream",
     "text": [
      "test acc - 86.1 %\n"
     ]
    }
   ],
   "source": [
    "model = cn.Model([784, 64, 64, 10], ['sigmoid', 'sigmoid', 'sigmoid'], [1e-9, 1e-8])\n",
    "\n",
    "model.momentum(\n",
    "    x_train[:1000], \n",
    "    y_train_ohv[:1000],\n",
    "    batch_size=10,\n",
    "    loss_fn='ce',\n",
    "    alpha=1e-1,\n",
    "    beta=0.99,\n",
    "    epochs=5000)\n",
    "\n",
    "mnist_accuracy(model) "
   ]
  },
  {
   "cell_type": "markdown",
   "metadata": {},
   "source": [
    "## after normalization"
   ]
  },
  {
   "cell_type": "code",
   "execution_count": 8,
   "metadata": {},
   "outputs": [],
   "source": [
    "from tensorflow.keras.utils import normalize\n",
    "x_train, x_test = normalize(x_train), normalize(x_test)"
   ]
  },
  {
   "cell_type": "code",
   "execution_count": 9,
   "metadata": {},
   "outputs": [],
   "source": [
    "def mnist_accuracy(model):\n",
    "    count_test = 0\n",
    "    for i in range(10000):\n",
    "        test_out = model.forward(x_test[i])\n",
    "        test_pred = np.argmax(test_out)\n",
    "        count_test += int(test_pred == y_test[i])\n",
    "    print(f'test acc - {(count_test / 10000) * 100} %')"
   ]
  },
  {
   "cell_type": "markdown",
   "metadata": {},
   "source": [
    "## set 1"
   ]
  },
  {
   "cell_type": "code",
   "execution_count": 11,
   "metadata": {},
   "outputs": [
    {
     "name": "stderr",
     "output_type": "stream",
     "text": [
      "100%|██████████████████████████████████████████████████████████████████████████████| 100/100 [1:23:53<00:00, 50.33s/it]\n"
     ]
    },
    {
     "name": "stdout",
     "output_type": "stream",
     "text": [
      "test acc - 96.96000000000001 %\n"
     ]
    }
   ],
   "source": [
    "model = cn.Model([784, 64, 64, 10], ['sigmoid', 'sigmoid', 'sigmoid'], [1e-9, 1e-8])\n",
    "\n",
    "model.momentum(\n",
    "    x_train[:60000], \n",
    "    y_train_ohv[:60000],\n",
    "    batch_size=10,\n",
    "    loss_fn='ce',\n",
    "    alpha=2e-1,\n",
    "    beta=0.99,\n",
    "    epochs=100)\n",
    "\n",
    "mnist_accuracy(model) "
   ]
  },
  {
   "cell_type": "markdown",
   "metadata": {},
   "source": [
    "## set 2"
   ]
  },
  {
   "cell_type": "code",
   "execution_count": 12,
   "metadata": {},
   "outputs": [
    {
     "name": "stderr",
     "output_type": "stream",
     "text": [
      "100%|██████████████████████████████████████████████████████████████████████████████████| 25/25 [19:14<00:00, 46.18s/it]\n"
     ]
    },
    {
     "name": "stdout",
     "output_type": "stream",
     "text": [
      "test acc - 17.849999999999998 %\n"
     ]
    }
   ],
   "source": [
    "model = cn.Model([784, 64, 64, 10], ['sigmoid', 'sigmoid', 'sigmoid'], [1e-9, 1e-8])\n",
    "\n",
    "model.momentum(\n",
    "    x_train[:60000], \n",
    "    y_train_ohv[:60000],\n",
    "    batch_size=10,\n",
    "    loss_fn='ce',\n",
    "    alpha=8e-1,\n",
    "    beta=0.99,\n",
    "    epochs=25)\n",
    "\n",
    "mnist_accuracy(model) "
   ]
  },
  {
   "cell_type": "markdown",
   "metadata": {},
   "source": [
    "## set 3"
   ]
  },
  {
   "cell_type": "code",
   "execution_count": 13,
   "metadata": {},
   "outputs": [
    {
     "name": "stderr",
     "output_type": "stream",
     "text": [
      "100%|██████████████████████████████████████████████████████████████████████████████| 200/200 [2:42:33<00:00, 48.77s/it]\n"
     ]
    },
    {
     "name": "stdout",
     "output_type": "stream",
     "text": [
      "test acc - 97.33000000000001 %\n"
     ]
    }
   ],
   "source": [
    "import matplotlib.pyplot as plt\n",
    "\n",
    "model = cn.Model([784, 64, 64, 10], ['sigmoid', 'sigmoid', 'sigmoid'], [1e-9, 1e-8])\n",
    "\n",
    "model.momentum(\n",
    "    x_train[:60000], \n",
    "    y_train_ohv[:60000],\n",
    "    batch_size=10,\n",
    "    loss_fn='ce',\n",
    "    alpha=2e-1,\n",
    "    beta=0.99,\n",
    "    epochs=200)\n",
    "\n",
    "mnist_accuracy(model)"
   ]
  },
  {
   "cell_type": "markdown",
   "metadata": {},
   "source": [
    "## error plot"
   ]
  },
  {
   "cell_type": "code",
   "execution_count": 14,
   "metadata": {},
   "outputs": [
    {
     "data": {
      "image/png": "[encoded data removed]",
      "text/plain": [
       "<Figure size 432x432 with 1 Axes>"
      ]
     },
     "metadata": {
      "needs_background": "light"
     },
     "output_type": "display_data"
    }
   ],
   "source": [
    "# error plot of best model\n",
    "model.plot(epochs=200, plt_size=[6, 6])"
   ]
  }
 ],
 "metadata": {
  "cells": [
   {
    "cell_type": "markdown",
    "metadata": {},
    "source": [
     "## SGD with and without momentum comparison.\n",
     "We converge to a local minima much faster if we have momentum."
    ]
   },
   {
    "cell_type": "code",
    "execution_count": 1,
    "metadata": {},
    "outputs": [],
    "source": [
     "import numpy as np\n",
     "import customnet as cn"
    ]
   },
   {
    "cell_type": "code",
    "execution_count": 2,
    "metadata": {},
    "outputs": [],
    "source": [
     "model = cn.Model([10, 42, 4], ['sigmoid', 'relu'])"
    ]
   },
   {
    "cell_type": "markdown",
    "metadata": {},
    "source": [
     "This initialises a model with input layer size 10 and ouput layer size 4 and an intermediate layer with 42 neurons. Sigmoid is the activation function in layer with 42 neurons and ReLU is the activation in the output layer. The input layer won't have any activation functions."
    ]
   },
   {
    "cell_type": "code",
    "execution_count": 3,
    "metadata": {},
    "outputs": [
     {
      "name": "stderr",
      "output_type": "stream",
      "text": [
       "100%|██████████████████████████████████████████████████████████████████████████████████| 5/5 [00:00<00:00, 1044.09it/s]\n"
      ]
     }
    ],
    "source": [
     "ALPHA = 1e-2\n",
     "BETA = 0.99\n",
     "EPOCHS = 5\n",
     "\n",
     "x = [np.array([0, 1, 2, 3, 4, 5, 6, 7, 8, 9])]\n",
     "y = [np.array([0, 3, 1, 4])]\n",
     "model.SGD(x, y, batch_size=1, loss_fn='mse', alpha=ALPHA, beta=BETA, epochs=EPOCHS)"
    ]
   },
   {
    "cell_type": "markdown",
    "metadata": {},
    "source": [
     "x and y are features and labels. $\\alpha$ and $\\beta$ are hyperparameters - $\\alpha$ is the learning rate and $\\beta$ is momentum. The rest are self explanatory. "
    ]
   },
   {
    "cell_type": "code",
    "execution_count": 4,
    "metadata": {},
    "outputs": [],
    "source": [
     "out = model.forward(x[0])\n",
     "loss = np.sum(np.abs(y[0] - out))"
    ]
   },
   {
    "cell_type": "code",
    "execution_count": 5,
    "metadata": {},
    "outputs": [
     {
      "name": "stdout",
      "output_type": "stream",
      "text": [
       "prediction -  [0. 0. 0. 0.] \n",
       "loss -  8.0\n"
      ]
     }
    ],
    "source": [
     "print('prediction - ', out, '\\nloss - ', loss)"
    ]
   },
   {
    "cell_type": "markdown",
    "metadata": {},
    "source": [
     "## Comparison"
    ]
   },
   {
    "cell_type": "markdown",
    "metadata": {},
    "source": [
     "Set $\\beta$ equal to zero for default SGD."
    ]
   },
   {
    "cell_type": "code",
    "execution_count": 6,
    "metadata": {},
    "outputs": [],
    "source": [
     "x = [np.array([4, 7, 9, 3, 11, 12, 8, 6, 10, 14])]\n",
     "y = [np.array([0, 0, 1, 0, 0, 0, 0, 0, 0, 0])]"
    ]
   },
   {
    "cell_type": "code",
    "execution_count": 7,
    "metadata": {},
    "outputs": [
     {
      "name": "stderr",
      "output_type": "stream",
      "text": [
       "100%|████████████████████████████████████████████████████████████████████████████████| 20/20 [00:00<00:00, 1323.79it/s]\n"
      ]
     }
    ],
    "source": [
     "ALPHA = 1e-2\n",
     "BETA = 0.99 # momentum > 0\n",
     "EPOCHS = 20\n",
     "\n",
     "model = cn.Model([10, 10], ['sigmoid'])\n",
     "model.SGD(x, y, batch_size=1, loss_fn='ce', alpha=ALPHA, beta=BETA, epochs=EPOCHS)\n",
     "out = model.forward(x[0])\n",
     "loss = np.sum(np.abs(y[0] - out))"
    ]
   },
   {
    "cell_type": "code",
    "execution_count": 8,
    "metadata": {},
    "outputs": [
     {
      "name": "stdout",
      "output_type": "stream",
      "text": [
       "prediction -  [1.75623534e-34 7.99890186e-34 1.00000000e+00 4.19946576e-34\n",
       " 9.30474236e-34 1.78353557e-34 4.27871781e-34 2.38779778e-33\n",
       " 8.20011721e-34 7.51603236e-35] \n",
       "loss -  4.440892098500626e-15\n"
      ]
     }
    ],
    "source": [
     "print('prediction - ', out, '\\nloss - ', loss)"
    ]
   },
   {
    "cell_type": "code",
    "execution_count": 9,
    "metadata": {},
    "outputs": [
     {
      "name": "stderr",
      "output_type": "stream",
      "text": [
       "100%|██████████████████████████████████████████████████████████████████████████████| 100/100 [00:00<00:00, 2184.74it/s]\n"
      ]
     }
    ],
    "source": [
     "ALPHA = 1e-2\n",
     "BETA = 0 # momentum = 0 \n",
     "EPOCHS = 100\n",
     "\n",
     "model = cn.Model([10, 10], ['sigmoid'])\n",
     "model.SGD(x, y, batch_size=1, loss_fn='ce', alpha=ALPHA, beta=BETA, epochs=EPOCHS)\n",
     "out = model.forward(x[0])\n",
     "loss = np.sum(np.abs(y[0] - out))"
    ]
   },
   {
    "cell_type": "code",
    "execution_count": 10,
    "metadata": {},
    "outputs": [
     {
      "name": "stdout",
      "output_type": "stream",
      "text": [
       "prediction -  [0.0204691  0.02611055 1.         0.03597862 0.03984046 0.02864107\n",
       " 0.02577227 0.04372876 0.029597   0.02273126] \n",
       "loss -  0.2728690920347634\n"
      ]
     }
    ],
    "source": [
     "print('prediction - ', out, '\\nloss - ', loss)"
    ]
   },
   {
    "cell_type": "markdown",
    "metadata": {},
    "source": [
     "## An auto-encoder\n",
     "Auto-encoders can be used to learn features in our input data without any labels. We are basically trying to reconstruct our data and we add a feature layer in between. Then, we snip of the decoder and we hope that we have a well-initialised supervised model that we can fine-tune using a smaller dataset. I wrote this code below as I was watching Stanford's CS231n lecture 13 on deep generative modeling. "
    ]
   },
   {
    "cell_type": "code",
    "execution_count": 11,
    "metadata": {},
    "outputs": [],
    "source": [
     "from tensorflow.keras.datasets import mnist\n",
     "import matplotlib.pyplot as plt\n",
     "\n",
     "(train_images, train_labels), (test_images, test_labels) = mnist.load_data()\n",
     "train_images = train_images.reshape((60000, 784))\n",
     "test_images = test_images.reshape((10000, 784))"
    ]
   },
   {
    "cell_type": "code",
    "execution_count": 12,
    "metadata": {},
    "outputs": [
     {
      "name": "stderr",
      "output_type": "stream",
      "text": [
       "100%|█████████████████████████████████████████████████████████████████████████████████| 10/10 [00:00<00:00, 250.13it/s]\n"
      ]
     },
     {
      "data": {
       "image/png": "iVBORw0KGgoAAAANSUhEUgAAAeAAAAD6CAYAAAB57pTcAAAABHNCSVQICAgIfAhkiAAAAAlwSFlzAAALEgAACxIB0t1+/AAAADh0RVh0U29mdHdhcmUAbWF0cGxvdGxpYiB2ZXJzaW9uMy4yLjIsIGh0dHA6Ly9tYXRwbG90bGliLm9yZy+WH4yJAAAgAElEQVR4nO3deZhdZZXv8d9KZQISIGEMEElkjOA1tCUE4YI2Yys28LSAyLURaSMotkgaGbxqoLEv9qN4ERUfkFlEEPQSFVsEFRwwJgxhljFKSEgIIZAwZKha94+zq60U9a5d7DO8p1Lfz/PkSdVZZ+93nV3nrVX7nL3Oa+4uAADQWsNyJwAAwFBEAQYAIAMKMAAAGVCAAQDIgAIMAEAGFGAAADKgAK+nzOw7ZvaFRt+3ZD+TzMzNbHi9+wLQnszsODO7NXce6wOjDxiNYmaTJD0taYS7r82bDTA0mJlL2sndn2jCvieJOd00nAGvh8ysI3cOwPpqsL3CM9jyHUoowIOImU0xs9+Y2XIze8jM/rG4/Uozu9jMbjGzVyS9t7jtvF7bfs7MFpnZQjP7l+Kl4h17bX9e8fV7zGyBmc0wsyXFNif02s/7zexeM3vZzJ4xs5mtPQpA65nZfDM7w8zul/SKme1rZn8o5uI8M3tPr/uON7Mrirn2opn9v16xj5vZE2a2zMxmmdk2vWJuZieZ2ePFdt8yMytiO5rZHWb2kpktNbPri9vvLDafZ2YrzeyYXnP4DDN7TtIVZvZRM/tdn8fU+3fABmb2NTP7SzHG78xsA0k9+19e7H/vvvsys3eb2Zxiuzlm9u5esd+Y2b+b2e/NbIWZ3WpmmzfmpzL4UYAHCTMbIeknkm6VtKWkT0u61sx2Ke7yYUlfljRWUt+Jdqik0yQdKGlHSfuXDLe1pE0kbSvpREnfMrNxRewVSf8saVNJ75d0spkdUdeDAwaHY1V7zr9V0s2SzpM0XtK/SbrJzLYo7neNpA0l7abaXP26JJnZ30v6P5KOljRB0l8k/aDPGIdJepekdxT3O6S4/d9Vm/vjJG0n6SJJcvf9ivg73H2Mu19ffL91kdv2kqYP4LF9VdI7Jb272O5zkrol9ex/02L/d/XeyMzGS/qZpG9I2kzSBZJ+Zmab9brbhyWdUByLkaodL4gCPJhMkzRG0vnuvtrdfyXpp6r9UpCkm9399+7e7e6v99n2aElXuPtD7v6qpHNKxloj6Vx3X+Put0haKWkXSXL337j7A8U490u6TuUFHVgffMPdn5H0vyTd4u63FPPgl5LmSnqfmU2Q9A+STnL3F4s5dEex/XGSLnf3e9x9laSzJO1dvM/a43x3X+7uf5X0a0lTi9vXqFZMt3H31919nT+y+9Et6UvuvsrdX4vuaGbDJH1M0mfc/Vl373L3PxQ5lnm/pMfd/Rp3X+vu10l6VNIHet3nCnd/rMjjhl6PacijAA8e20h6xt27e932F9XOUiXpmbJte30f3VeSXuhzwcWrqhV/mdleZvZrM3vezF6SdJIkXlLCUNAzb7aXdFTx8vNyM1suaV/VzmonSlrm7i/2s/02qs1ZSZK7r5T0gv42hyXpuV5f//e8U+2M1CT9qXj76WMluT7fzx/iKZtLGi3pyQHev7d1HlOh9+8lKf2YhjwK8OCxUNLE4q/VHm+R9GzxdXQ5+yLVXrbqMbGOPL4vaZakie6+iaTvqPaLAVjf9cyxZyRd4+6b9vq3kbufX8TGm9mm/Wy/ULXiLUkys41Ue9n22X7uu+7A7s+5+8fdfRtJn5D07Z73b0ty7fGKai+L94y9da/YUkmvS9phAPvpa53HVOj9ewkBCvDgMVu1SfQ5MxtRXPTxAb3xPaT+3CDphOIirg0lfbGOPMaq9hf+62a2p2rv7wBDyfckfcDMDjGzDjMbXVz4tJ27L5L0c9UK5Lhirva8j/p91ebhVDMbJek/JM129/llA5rZUWbW80f0i6oVxq7i+8WqvS8dmSdpt2Ls0ZJm9gSKV9Uul3SBmW1TPKa9ixyfV+3l7NT+b5G0s5l92MyGm9kxkt6m2ttjKEEBHiTcfbWkf1Tt/aWlkr4t6Z/d/dEBbPtz1S6S+LWkJyT1XEgxkPd4+vqkpHPNbIVqhfyGCvsABq3ifeDDJZ2tWoF6RtLp+tvv04+o9p7to5KWSDq12O52SV+QdJNqr0rtIOlDAxz2XZJmm9lK1V6B+oy7P13EZkq6qng5/OhEzo9JOlfSbZIeV58LNVW7MOoBSXMkLZP0FUnDimtGvizp98X+p/XZ7wuqXTg2Q7WX0z8n6TB3XzrAxzWk8UEcQ5CZTZH0oKRRNNcDQB6cAQ8RZnakmY0s2om+IuknFF8AyIcCPHR8QrWXy55U7b2jk/OmAwBDGy9BAwCQAWfAAABkQAEGACCDulbJKD5j+EJJHZK+WzSiJ420UT5aG9UzJDAkrNCLS919i/J7Ns6bmc8jbZSPtsRcbta7WtHHveR4J61Z+Qy2/SIUzeXKBdhqS959S9JBkhZImmNms9z94dQ2o7WR9rIDqg4JDBm3+Y19P96vqd7sfB5tG2na8EP6C8nXNufiehue/nXlXV3JmKw5L/TZsHRFC/ORpODam/Bx1nFsKx+/6DohK/kQvOjYd5cco5RhJautrvNpvX1jwWOJ9hvts2S/0Vyu55m5p6Qn3P2p4kMifqBaczqAwYf5DLRYPQV4W637of4LtO4HcAMYPJjPQIvV8x5wf689vOE83Mymq1iPcvTfPgscQHspnc/MZaCx6jkDXqB1V9XZTrWVMdbh7pe4e6e7d47QqDqGA9BEpfN5nblszGWgXvUU4DmSdjKzyWY2UrUPFZ/VmLQAtBjzGWixyi9Bu/taMztF0i9Ua1u43N0falhmAFrmTc9nD67IbdLVpOEVwE0asylXDjdJlKtUz5Xi6eNnHSVXJEf5qOK2ZT/Pio+l+j4lebUruuvqA3b3W1RbDxLAIMd8BlqLT8ICACADCjAAABlQgAEAyIACDABABhRgAAAyqOsqaABDWOqD+MvaRKrsU6r8wf6l7TlBe1PpogrJQetYpCAStFt5d0nrU7ioQhAKWo1KF4eopz2sqqqLPIRPvfjn6R7Eo/UfSlICAABNQAEGACADCjAAABlQgAEAyIACDABABhRgAAAyoAADAJABfcAAqqnSy1rSoxku/xf1uUb9sWW9qlV7j+sRHIdwmb7o+JX0HlddWtHXVjvudYmOe1n/cJRTxR7hsudQ2GsepMsZMAAAGVCAAQDIgAIMAEAGFGAAADKgAAMAkAEFGACADGhDAtA2onaYcFm8qssGlolaXupplSlbrrCC6PhIA1iuMLXfiu1LTRMtqyiFywpWVvLzKm11S+AMGACADCjAAABkQAEGACADCjAAABlQgAEAyIACDABABnW1IZnZfEkrJHVJWuvunY1ICm9e1CrQscXmTRnzz/82KRnr2jDdhrH9DkvC/W74yfQl/89dMDIZu6fz+mRsadcr4Zh7/XBGMrbjaX8Mt11fvKn5bJIN6//nFLamlK2eE7TvVG2jKW35idqJgtVzrCO933AFISk+DsEx6Nh44/RmJS1BNiz9OOfPeHsytmp8er/b7RLP5THHvZyMLfjulsnYHzuvSsZW+ppwzP0vOz0Ze8s5dyVjqedzTUmLV8U2pEb0Ab/X3Zc2YD8A8mM+Ay3CS9AAAGRQbwF2Sbea2d1mNr0RCQHIhvkMtFC9L0Hv4+4LzWxLSb80s0fd/c7edygm8nRJGq0N6xwOQBOF85m5DDRWXWfA7r6w+H+JpB9L2rOf+1zi7p3u3jlCo+oZDkATlc3ndeayMZeBelUuwGa2kZmN7fla0sGSHmxUYgBah/kMtF49L0FvJenHVrvEf7ik77v7fzUkq0GuY8pOyZiPGpGMLdx/03C/r01Lt9KM3yQd++070u05Ofz81bFh/CvfPDQZm/327ydjT695LRk7f/FB4Zjb/LZii8v6483NZ0+3XtS1ek7FFYbqWSkpaj/p2Grr9IYj03P5hX23DcdccvDqZGzc+JXJ2K/2SLfnjLb413lXsIrQKLsjGVur9PGbl34YkqTTvndMMjbn7VcnY692p9t6/mPJ/uGY2/9sRTLmwTGIWomi53Q9Ku/V3Z+S9I4G5gIgE+Yz0Hq0IQEAkAEFGACADCjAAABkQAEGACADCjAAABlQgAEAyKA5zU1DQNd7/i4Zu+DKbyVjO49IL6e3Plnj6d7BL1700XDb4a+ke/X2/uEpydjYZ9N9fKOWpnuEJWnDubPDOAYu6ruN+nXLto16hKOlCsvGHLbLDsnYV392RTI2ZWT64zhf6i55vln698Crnm6u7VDJ0oqBUUGfcEdwbFd2r0rGTj3rs+GYI19K/zwP0SeTsdFLXk3GOl6Mlxb1+Q+ng2VLU6b2WbbcYLTf4CMGOAMGACADCjAAABlQgAEAyIACDABABhRgAAAyoAADAJABbUgVjfrzwmTs7tcnJmM7j1jcjHQqm7FoWhh/auXmydiVO9yYjL0UtIVs9Y0/lCfWYEN+scFWqtguVLtDEA9a28JdKm5D0jOLkqGHV6eXI5wy8uVkrKxdaJWvqbTtCEs/li8ueVc45jOvjkvGvrv9L5KxxV3pZSDH3jAnHDNa6jFqOYuWDSxpCIoNC54LwXKX4XZ14AwYAIAMKMAAAGRAAQYAIAMKMAAAGVCAAQDIgAIMAEAGtCFVtHbRc8nYRV85Khn78qHplTw67h8TjjnvkxeVJ9aP85b+j2TsiQPTK7pIUtfydIvGh/dOr2Yy/1/T+5yseeGYGOSido56VG0hKdG1Mj0nv/npo5OxM49PN8Rs/JsNwjHvnnlxMvZqd3o1pP+77G3J2Lxpo8IxfdWLydgHdz42GXvinPTvpcnd8Vx2D9qxgna1qIsram0qE61qZMPT5TBcpUuKH0uAM2AAADKgAAMAkAEFGACADCjAAABkQAEGACADCjAAABmUtiGZ2eWSDpO0xN13L24bL+l6SZMkzZd0tLunr3EfYsZfcVcytsVPNkvGul5YFu53t90/low9tN/lydisS/ZPxrZcXn1lIrsr3YIwOX0IkFFD57Ml2kGClWyiVg8pbhMJW42iVZSqd61o5K13J2M7/jbdatT9+qpwvzu/9/hkbM7//E4yNuvcv0/GxqyaHY4ZtXF1PfZkMjb5w8EBLFslKPyZVft51tXlFuQbPvdKWEdwjIIOpoGcAV8p6dA+t50p6XZ330nS7cX3ANrflWI+A22htAC7+52S+p6aHS7pquLrqyQd0eC8ADQB8xloH1XfA97K3RdJUvH/lo1LCUCLMZ+BDJr+UZRmNl3SdEkarfhjDwG0L+Yy0FhVz4AXm9kESSr+X5K6o7tf4u6d7t45QvFnlQLIYkDzmbkMNFbVAjxLUs9lfMdLurkx6QDIgPkMZFBagM3sOkl3SdrFzBaY2YmSzpd0kJk9Lumg4nsAbY75DLSP0veA3T21TtUBDc5lSOha+kLlbde8PLLSdrsd93Ay9vzFJX183SXLcGFQacl8TvUHawDLuoX7jc4XgubQJj2HfXV62cAyXc+le4jHWPrl/V1nPJSMPfvj6pf0VO6tLTm24RJ/Vftug+dXbcdBH3qwlKEr+F1Y8ji9O+hDD/BJWAAAZEABBgAgAwowAAAZUIABAMiAAgwAQAYUYAAAMmj6R1Gicaac8VgydsLb010kV2x/ezK2/1GfCscce/0fyxPD0BQtAVhVtLxd1AoStaaULZlXsU0pbKMpGXPns+5LxqbvvV8yduF2tyVjR+5zcjjmsDvTYzbluKuk7azs55IaMmglKhszbBeqZ53DittyBgwAQAYUYAAAMqAAAwCQAQUYAIAMKMAAAGRAAQYAIAPakAaRruUvJWMvnDwlGfvrrNeSsTPPuzoc86yjj0zG/N5NkrGJX74rvdNmtK+gbdS1Ak7U8lK1VSZaKalEU1bzkdS9ek0y9txRmydjz/8uPebpl30vHPOz845Oxkbenp7LW35ndrjfUNXWnmA7727OeaN1pJ9fVVc7KsMZMAAAGVCAAQDIgAIMAEAGFGAAADKgAAMAkAEFGACADGhDWk90z3skGfvQOacnY9d+6avhfu+bFrQpTUuHdtvolGRsp0sXhWOufWp+GEebqLKaTR0rE0Wr4LiqtijFOUWtRnW1KAWrCK1d8Gwy9tFTTkvGrvzmBeGQ90+7JhlbudeqZOzdm85Ixra/OP17R5K6Xno5GQt/nmFXWcnPMzi28ZjRqk/NOVflDBgAgAwowAAAZEABBgAgAwowAAAZUIABAMiAAgwAQAYUYAAAMjAvWRrOzC6XdJikJe6+e3HbTEkfl/R8cbez3f2WssE2tvG+lx1QV8JoLN9nahjf+PwFydh1b/1FpTF3/fW/hPFdzkkvu9j1+FOVxhxsbvMb73b3zkbvt1HzeeNh433a8EP6jdWzTF/UwxkuY1l5qcISVXqdB6LisotRH+uwyW8Jh5xwzZJk7KLtfpWMjbJ0v/OOv5gejjnl9PR87XoxPc/Dft2y51fFn1nlHuESt3X/MDmXB3IGfKWkQ/u5/evuPrX4V1p8AbSFK8V8BtpCaQF29zslLWtBLgCajPkMtI963gM+xczuN7PLzWxc6k5mNt3M5prZ3DVKf9wZgKxK5/M6c9mZy0C9qhbgiyXtIGmqpEWSvpa6o7tf4u6d7t45QqMqDgegiQY0n9eZy8ZcBupVqQC7+2J373L3bkmXStqzsWkBaBXmM5BHpQJsZhN6fXukpAcbkw6AVmM+A3kMpA3pOknvkbS5pMWSvlR8P1WSS5ov6RPuHq8xJ9qQBqOOrbZMxhYes2MyNvuMC5OxYSV/9x339MHJ2Ev7vhBuu75oYhtSQ+bzxjbe9xp2YP/B4HdKtIRfmbAVpGqLklS9TSla9q4jHtO749+7lXh3GB42Zkwy9tL7dkvGbvvaN5KxqEVJkj698N3J2JN7BtcRNGn5v6YJjn3UhlQ6G9z92H5uvmzgmQFoF8xnoH0Msj8zAABYP1CAAQDIgAIMAEAGFGAAADKgAAMAkEH1ngAMCV2L0yuobPWNdOz1z6VXLNnQRoZjXjrpp8nYYUeemt7vj2eH+0V+pe03Ja00lZS1GVVcfShqiypdPadq21Qdx6d7xYpkbOwN6bnTcUH6GKxV/DjP3fr2ZOy4d52U3nBO0IpeT4tSE1rOavFqOXEGDABABhRgAAAyoAADAJABBRgAgAwowAAAZEABBgAgA9qQhrjufaeG8SePGp2M7T51fjJW1moUuWjZHun93jy38n7RImWrD1UUrTBU2vYTCVpTwq6f6HFWbXcpGzRoX+rYJb06mSQ9cfwWyVjn/o8mY2s8/Vi6FLeVXb9i12TM7v1zMhbutRmtalJ9P8/gGIVDVtoKAADUhQIMAEAGFGAAADKgAAMAkAEFGACADCjAAABkQAEGACAD+oDXE9a5ezL22L+me3Iv3eeqcL/7jV5dOaeUVb4mjP9x2eR0sHtRg7NBZcme1Ob0aUa9vnX1CDejb7ls+bqgn3f49hOTsYfP2ioZu+qgS8Mh3zHytWRsk2EbBFumPwvgxa5XwzF/viT9e8nXBHO5niUZo6UeI0Gvrw2PS2W4zGbw9OMMGACADCjAAABkQAEGACADCjAAABlQgAEAyIACDABABqVtSGY2UdLVkrZWrb/gEne/0MzGS7pe0iRJ8yUd7e4vNi/V9d/wyduH8SdP2CYZm3nMD5KxfxqztHJOVZ29uDMZu+PCaeG24666q9HpQE2Yy4lWERuWbsEJ2zXKtg3aiZq1HGHVFqWOTTcN48+cOCUZu+jk7yRj+4xOt/B1l7R/DVO6HTFacvCc59NLlv7+jL3CMUf+8t4goSYtWxm0DIXPk6B9ydeurSelpIGcAa+VNMPdp0iaJulTZvY2SWdKut3dd5J0e/E9gPbFXAbaSGkBdvdF7n5P8fUKSY9I2lbS4ZJ6PsXhKklHNCtJAPVjLgPt5U29B2xmkyTtIWm2pK3cfZFUm9iStkxsM93M5prZ3DVaVV+2ABqCuQzkN+ACbGZjJN0k6VR3f3mg27n7Je7e6e6dIzSqSo4AGoi5DLSHARVgMxuh2oS91t1/VNy82MwmFPEJkpY0J0UAjcJcBtpHaQE2M5N0maRH3P2CXqFZko4vvj5e0s2NTw9AozCXgfYykNWQ9pH0EUkPmNl9xW1nSzpf0g1mdqKkv0o6qjkpDj7DJ70lGXvpnROSsWPO/a9wvydt+qMw3gwzFqVbhu76drrVaPyVf0rGxnXTZpRJ4+aypVuG6mkJ8rVBm1LVtpWy1XOC/XaM2yQZ69ppu2Tsn664NRzyg2NvSY+pdCvWq0GrTLyikfSl53dLxn7z+X2SsdG33J2MjfR0TFK8MlG0YpQF54ZVVzuqQ+lqSBXblEoLsLv/Tko+Iw6oNCqAlmMuA+2FT8ICACADCjAAABlQgAEAyIACDABABhRgAAAyGEgb0pA0fMLWYXzZ5RslYydPviMZO3bs4so5VXXKs/smY/dcnF7pRJI2v/HBZGz8CtqJhixv0goxUatRsGpR1CZiG4wJh3ztps2SsdMmp9uJDtxgeTJWtjJR1Kg1ZtjoZOz05/ZIxuZ8Pt0WKEmjf3V/OrYmaCeqeNyl8tWvgg2rbVePoC2q9HFEz9tosa2SlAAAQBNQgAEAyIACDABABhRgAAAyoAADAJABBRgAgAwowAAAZLDe9wGvPiTdG7f6s8uSsbN3TC8XJkkHb/BK5ZyqWtz1WjK236wZydiu//vRZGz88riXN0M3Hga7aJm5MlHP6TvTy+l1/efLydgXJv8kHLJz5Op0OuEMSJ+/jLB46cQ13WuSsZ2uPjkZ23HmvcnYqNfnhGMq6pVOLC0pSa70Y6nc51smWo6w5LdS2J8e9etGvcfB87J0v9FmlbYCAAB1oQADAJABBRgAgAwowAAAZEABBgAgAwowAAAZrPdtSPOPSP+N8djbf9iUMb+1fIdk7MI7Dk7GrCtu39j1vKeTsZ0Wz07GSi6gB6qp0npRxzJzTx6zcTL2+JRrk7GV3a+H+90wWP7v6pc3T8bO/ekHk7GyubzjOfOSsbe+/qdkrLuO4+dd1X4TWEfQhlS2z6idqKy1J7nP5rS5Rftt1rKLnAEDAJABBRgAgAwowAAAZEABBgAgAwowAAAZUIABAMjA3OPLp81soqSrJW2t2jIUl7j7hWY2U9LHJT1f3PVsdw+XENrYxvtedkDdSQPru9v8xrvdPb2UVwUNn8vDDqyQRMnf/FVbU+pRta0leCzR6kJSSdtKdAwqrrpTqmJ7jkrqR7htxeNXtZ2qbMyoRS5qxZLiFZiiuTyQPuC1kma4+z1mNlbS3Wb2yyL2dXf/6gD2ASA/5jLQRkoLsLsvkrSo+HqFmT0iadtmJwagsZjLQHt5U+8Bm9kkSXtI6vnYpVPM7H4zu9zMxjU4NwBNwlwG8htwATazMZJuknSqu78s6WJJO0iaqtpf1V9LbDfdzOaa2dw1WtWAlAHUg7kMtIcBFWAzG6HahL3W3X8kSe6+2N273L1b0qWS9uxvW3e/xN073b1zhEY1Km8AFTCXgfZRWoDNzCRdJukRd7+g1+0Tet3tSEkPNj49AI3CXAbay0Cugt5H0kckPWBm9xW3nS3pWDObKsklzZf0iaZkCKBRWjOX62rPCYLNasGpKkjW6+mUKVl5Jz1mHYNGx7aOFZhCQeuTK8innla26AcTtEyVrnYUtmqlQwO5Cvp3kvrbe9gnCKC9MJeB9sInYQEAkAEFGACADCjAAABkQAEGACADCjAAABlQgAEAyKBawxkApFTt75QqLw1Yz/J10VJzYf9ntBRf2eMIti3tOU2OGZ9PVT5GUV93R0lfd7Dfyv3OVY+PFP5cwudBsNxg2X4jnAEDAJABBRgAgAwowAAAZEABBgAgAwowAAAZUIABAMjAPLqUvtGDmT0v6S+9btpc0tKWJVCOfGLtlo/Ufjk1Kp/t3X2LBuynKZjLlbRbTuQTa/pcbmkBfsPgZnPdvTNbAn2QT6zd8pHaL6d2y6dV2u1xt1s+UvvlRD6xVuTDS9AAAGRAAQYAIIPcBfiSzOP3RT6xdstHar+c2i2fVmm3x91u+UjtlxP5xJqeT9b3gAEAGKpynwEDADAkZSnAZnaomf3ZzJ4wszNz5NAnn/lm9oCZ3WdmczPlcLmZLTGzB3vdNt7Mfmlmjxf/j8ucz0wze7Y4TveZ2ftamM9EM/u1mT1iZg+Z2WeK27McoyCfbMcoF+bzG8Zvq7kc5JTludpuc7kkp6Yeo5a/BG1mHZIek3SQpAWS5kg61t0fbmki6+Y0X1Knu2frQTOz/SStlHS1u+9e3Pafkpa5+/nFL7Zx7n5GxnxmSlrp7l9tRQ598pkgaYK732NmYyXdLekISR9VhmMU5HO0Mh2jHJjP/Y7fVnM5yGmmMjxX220ul+TU1Pmc4wx4T0lPuPtT7r5a0g8kHZ4hj7bi7ndKWtbn5sMlXVV8fZVqT4ic+WTj7ovc/Z7i6xWSHpG0rTIdoyCfoYb53Ee7zeUgpyzabS6X5NRUOQrwtpKe6fX9AuX/xeWSbjWzu81seuZcetvK3RdJtSeIpC0z5yNJp5jZ/cVLWi19Ga2HmU2StIek2WqDY9QnH6kNjlELMZ8HJvvzNCHrc7Xd5nI/OUlNPEY5CrD1c1vuS7H3cfe/k/QPkj5VvFyDN7pY0g6SpkpaJOlrrU7AzMZIuknSqe7+cqvHH0A+2Y9RizGfB6+sz9V2m8tS6+dzjgK8QNLEXt9vJ2lhhjz+m7svLP5fIunHqr2s1g4WF+9N9LxHsSRnMu6+2N273L1b0qVq8XEysxGqTY5r3f1Hxc3ZjlF/+eQ+RhkwnwemreaylPe52m5zOZVTs49RjgI8R9JOZjbZzEZK+pCkWRnykCSZ2UbFm+4ys40kHSzpwXirlpkl6fji6+Ml3Zwxl55J0eNItfA4mZlJukzSI+5+Qa9QlmOUyifnMcqE+TwwbTWXpXzP1Xaby1FOTT9G7t7yf5Lep9qVk09K+nyOHHrl8lZJ84p/D+XKR9J1qr3EsUa1s4oTJW0m6XZJjxf/j8+cz9P5/9UAAABvSURBVDWSHpB0v2qTZUIL89lXtZc275d0X/HvfbmOUZBPtmOU6x/z+Q05tNVcDnLK8lxtt7lcklNTjxGfhAUAQAZ8EhYAABlQgAEAyIACDABABhRgAAAyoAADAJABBRgAgAwowAAAZEABBgAgg/8PBLnfZRu2xPYAAAAASUVORK5CYII=\n",
       "text/plain": [
        "<Figure size 576x576 with 2 Axes>"
       ]
      },
      "metadata": {
       "needs_background": "light"
      },
      "output_type": "display_data"
     },
     {
      "name": "stdout",
      "output_type": "stream",
      "text": [
       "loss -  63.86628458087338\n"
      ]
     }
    ],
    "source": [
     "ALPHA = 1e-1\n",
     "BETA = 0.99\n",
     "EPOCHS = 10\n",
     "\n",
     "\n",
     "aenc_model = cn.Model([784, 64, 784], ['relu', 'sigmoid', 'relu',])\n",
     "data = np.array([train_images[0] / 255.0])\n",
     "aenc_model.SGD(data, data, batch_size=1, loss_fn='mse', alpha=ALPHA, beta=BETA, epochs=EPOCHS)\n",
     "out = aenc_model.forward(data[0])\n",
     "loss = np.sum(np.abs(data[0] - out))\n",
     "plt.figure(figsize=(8, 8))\n",
     "plt.subplot(1, 2, 1)\n",
     "plt.title('original')\n",
     "plt.imshow(np.array(data).reshape((28, 28)))\n",
     "plt.subplot(1, 2, 2)\n",
     "plt.title('reconstruction')\n",
     "plt.imshow(out.reshape((28, 28)))\n",
     "plt.show()\n",
     "print('loss - ', loss)"
    ]
   },
   {
    "cell_type": "code",
    "execution_count": 13,
    "metadata": {},
    "outputs": [
     {
      "name": "stderr",
      "output_type": "stream",
      "text": [
       "100%|█████████████████████████████████████████████████████████████████████████████████| 10/10 [00:00<00:00, 188.80it/s]\n"
      ]
     },
     {
      "data": {
       "image/png": "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\n",
       "text/plain": [
        "<Figure size 576x576 with 2 Axes>"
       ]
      },
      "metadata": {
       "needs_background": "light"
      },
      "output_type": "display_data"
     },
     {
      "name": "stdout",
      "output_type": "stream",
      "text": [
       "loss -  64.14929011374613\n"
      ]
     }
    ],
    "source": [
     "ALPHA = 1e-1\n",
     "BETA = 0.99\n",
     "EPOCHS = 10\n",
     "\n",
     "\n",
     "aenc_model = cn.Model([784, 64, 784], ['relu', 'sigmoid', 'relu',])\n",
     "data = np.array([train_images[1] / 255.0])\n",
     "aenc_model.SGD(data, data, batch_size=1, loss_fn='mse', alpha=ALPHA, beta=BETA, epochs=EPOCHS)\n",
     "out = aenc_model.forward(data[0])\n",
     "loss = np.sum(np.abs(data[0] - out))\n",
     "plt.figure(figsize=(8, 8))\n",
     "plt.subplot(1, 2, 1)\n",
     "plt.title('original')\n",
     "plt.imshow(np.array(data).reshape((28, 28)))\n",
     "plt.subplot(1, 2, 2)\n",
     "plt.title('reconstruction')\n",
     "plt.imshow(out.reshape((28, 28)))\n",
     "plt.show()\n",
     "print('loss - ', loss)"
    ]
   },
   {
    "cell_type": "markdown",
    "metadata": {},
    "source": [
     "Since my library doesn't support CNNs, the network doesn't really learn any features. It is just memorising the data. So it's more of a 'memorizer' than an auto-encoder. It looks cool though!"
    ]
   }
  ],
  "kernelspec": {
   "display_name": "Python 3",
   "language": "python",
   "name": "python3"
  },
  "language_info": {
   "codemirror_mode": {
    "name": "ipython",
    "version": 3
   },
   "file_extension": ".py",
   "mimetype": "text/x-python",
   "name": "python",
   "nbconvert_exporter": "python",
   "pygments_lexer": "ipython3",
   "version": "3.8.3"
  },
  "metadata": {
   "kernelspec": {
    "display_name": "Python 3",
    "language": "python",
    "name": "python3"
   },
   "language_info": {
    "codemirror_mode": {
     "name": "ipython",
     "version": 3
    },
    "file_extension": ".py",
    "mimetype": "text/x-python",
    "name": "python",
    "nbconvert_exporter": "python",
    "pygments_lexer": "ipython3",
    "version": "3.8.3"
   }
  },
  "nbformat": 4,
  "nbformat_minor": 4
 },
 "nbformat": 4,
 "nbformat_minor": 4
}
