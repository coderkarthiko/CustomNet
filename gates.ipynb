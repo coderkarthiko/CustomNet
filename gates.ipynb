{
 "cells": [
  {
   "cell_type": "markdown",
   "metadata": {},
   "source": [
    "## Boolean circuits using neural networks\n",
    "\n",
    "I didn't fully go through the [paper](https://pdfs.semanticscholar.org/64e4/70850dd6a30939df399741ec402b51286116.pdf) but I found the concept intruiging. I know how to implement gradient descent so I tried to simulate logic gates using my library and it worked. Since neural networks are great at approximating functions and since logic gates act like functions, we can use neural networks to simulate logic gates (I mean, they're VERY simple functions so it really isn't something special). The sigmoid activation function has range (0, 1) so we can use gradient descent to make models that behave like logic gates. I have NO idea how this is useful though. The first application I thought of was in-place switching of logic gates. All we have to do to change an AND gate to an OR gate is to retrain the model and we can do it quickly (but this very hand-wavy - I really cannot come up with any other uses :')). I used a very small network here - Just 2 inputs neurons, 2 hidden neurons and an output neuron, all sigmoid."
   ]
  },
  {
   "cell_type": "code",
   "execution_count": 1,
   "metadata": {},
   "outputs": [
    {
     "name": "stderr",
     "output_type": "stream",
     "text": [
      "100%|████████████████████████████████████████████████████████████████████████████| 4000/4000 [00:02<00:00, 1790.84it/s]\n",
      "100%|████████████████████████████████████████████████████████████████████████████| 4000/4000 [00:02<00:00, 1866.99it/s]\n",
      "100%|████████████████████████████████████████████████████████████████████████████| 4000/4000 [00:02<00:00, 1339.53it/s]\n",
      "100%|████████████████████████████████████████████████████████████████████████████| 4000/4000 [00:01<00:00, 3062.49it/s]\n"
     ]
    }
   ],
   "source": [
    "import dl\n",
    "\n",
    "x = [[0, 0], [1, 0], [0, 1], [1, 1]]\n",
    "and_y = [[0], [0], [0], [1]]\n",
    "or_y = [[0], [1], [1], [1]]\n",
    "xor_y = [[0], [1], [1], [0]]\n",
    "not_x = [[0], [1]]\n",
    "not_y = [[1], [0]]\n",
    "\n",
    "and_model = dl.Model([2, 2, 1], ['sigmoid', 'sigmoid'], [1e-2, 1e-1])\n",
    "or_model = dl.Model([2, 2, 1], ['sigmoid', 'sigmoid'], [1e-2, 1e-1])\n",
    "xor_model = dl.Model([2, 2, 1], ['sigmoid', 'sigmoid'], [1e-2, 1e-1])\n",
    "not_model = dl.Model([1, 2, 1], ['sigmoid', 'sigmoid'], [1e-2, 1e-1])\n",
    "\n",
    "and_model.momentum(x, and_y, batch_size=4, loss_fn='ce', alpha=2e-1, beta=0.99, epochs=4000)\n",
    "or_model.momentum(x, or_y, batch_size=4, loss_fn='ce', alpha=2e-1, beta=0.99, epochs=4000)\n",
    "xor_model.momentum(x, xor_y, batch_size=4, loss_fn='ce', alpha=2e-1, beta=0.99, epochs=4000)\n",
    "not_model.momentum(not_x, not_y, batch_size=2, loss_fn='ce', alpha=2e-1, beta=0.99, epochs=4000)"
   ]
  },
  {
   "cell_type": "raw",
   "metadata": {},
   "source": [
    "| answer - output | is of the order 10^-5 so we can round of the output by using round(<gate>_model.forward([a, b])[0], 5) "
   ]
  },
  {
   "cell_type": "code",
   "execution_count": 2,
   "metadata": {},
   "outputs": [],
   "source": [
    "def n_and(a, b):\n",
    "    return and_model.forward([a, b])[0]\n",
    "\n",
    "def n_or(a, b):\n",
    "    return or_model.forward([a, b])[0]\n",
    "\n",
    "def n_xor(a, b):\n",
    "    return xor_model.forward([a, b])[0]\n",
    "\n",
    "def n_not(a):\n",
    "    return not_model.forward([a])[0]"
   ]
  },
  {
   "cell_type": "code",
   "execution_count": 3,
   "metadata": {},
   "outputs": [
    {
     "name": "stdout",
     "output_type": "stream",
     "text": [
      "AND\n",
      "0 and 0 = 0 \n",
      "1 and 0 = 0 \n",
      "0 and 1 = 0 \n",
      "1 and 1 = 1 \n",
      "\n",
      "NN\n",
      "0 and 0 = 5.285454272619234e-06 \n",
      "1 and 0 = 5.377680932784867e-06 \n",
      "0 and 1 = 5.428835420327684e-06 \n",
      "1 and 1 = 0.9999999999251892\n"
     ]
    }
   ],
   "source": [
    "print('AND\\n0 and 0 =', 0, '\\n1 and 0 =', 0, '\\n0 and 1 =', 0, '\\n1 and 1 =', 1, '\\n')\n",
    "print('NN\\n0 and 0 =', n_and(0, 0), '\\n1 and 0 =', n_and(1, 0), '\\n0 and 1 =', n_and(0, 1), '\\n1 and 1 =', n_and(1, 1))"
   ]
  },
  {
   "cell_type": "code",
   "execution_count": 4,
   "metadata": {},
   "outputs": [
    {
     "name": "stdout",
     "output_type": "stream",
     "text": [
      "OR\n",
      "0 or 0 = 0 \n",
      "1 or 0 = 1 \n",
      "0 or 1 = 1 \n",
      "1 or 1 = 1 \n",
      "\n",
      "NN\n",
      "0 or 0 = 9.76494969634496e-09 \n",
      "1 or 0 = 0.9999999999997602 \n",
      "0 or 1 = 0.9999999999997602 \n",
      "1 or 1 = 0.9999999999251892\n"
     ]
    }
   ],
   "source": [
    "print('OR\\n0 or 0 =', 0, '\\n1 or 0 =', 1, '\\n0 or 1 =', 1, '\\n1 or 1 =', 1, '\\n')\n",
    "print('NN\\n0 or 0 =', n_or(0, 0), '\\n1 or 0 =', n_or(1, 0), '\\n0 or 1 =', n_or(0, 1), '\\n1 or 1 =', n_and(1, 1))"
   ]
  },
  {
   "cell_type": "code",
   "execution_count": 5,
   "metadata": {},
   "outputs": [
    {
     "name": "stdout",
     "output_type": "stream",
     "text": [
      "XOR\n",
      "0 xor 0 = 0 \n",
      "1 xor 0 = 1 \n",
      "0 xor 1 = 1 \n",
      "1 xor 1 = 0 \n",
      "\n",
      "NN\n",
      "0 xor 0 = 2.8977631520804503e-05 \n",
      "1 xor 0 = 0.9999842966431572 \n",
      "0 xor 1 = 0.9999844531757334 \n",
      "1 xor 1 = 3.0217463069527673e-09\n"
     ]
    }
   ],
   "source": [
    "print('XOR\\n0 xor 0 =', 0, '\\n1 xor 0 =', 1, '\\n0 xor 1 =', 1, '\\n1 xor 1 =', 0, '\\n')\n",
    "print('NN\\n0 xor 0 =', n_xor(0, 0), '\\n1 xor 0 =', n_xor(1, 0), '\\n0 xor 1 =', n_xor(0, 1), '\\n1 xor 1 =', n_xor(1, 1))"
   ]
  },
  {
   "cell_type": "code",
   "execution_count": 6,
   "metadata": {},
   "outputs": [
    {
     "name": "stdout",
     "output_type": "stream",
     "text": [
      "NOT\n",
      "not 1 = 0 \n",
      "not 0 = 1 \n",
      "\n",
      "NN\n",
      "not 1 = 4.394288265200739e-11 \n",
      "not 0 = 0.9999999917441466\n"
     ]
    }
   ],
   "source": [
    "print('NOT\\nnot 1 =', 0, '\\nnot 0 =', 1, '\\n')\n",
    "print('NN\\nnot 1 =', n_not(1), '\\nnot 0 =', n_not(0))"
   ]
  }
 ],
 "metadata": {
  "kernelspec": {
   "display_name": "Python 3",
   "language": "python",
   "name": "python3"
  },
  "language_info": {
   "codemirror_mode": {
    "name": "ipython",
    "version": 3
   },
   "file_extension": ".py",
   "mimetype": "text/x-python",
   "name": "python",
   "nbconvert_exporter": "python",
   "pygments_lexer": "ipython3",
   "version": "3.8.3"
  }
 },
 "nbformat": 4,
 "nbformat_minor": 4
}
