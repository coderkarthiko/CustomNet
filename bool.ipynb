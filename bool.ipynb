{
 "cells": [
  {
   "cell_type": "code",
   "execution_count": 192,
   "metadata": {},
   "outputs": [
    {
     "name": "stderr",
     "output_type": "stream",
     "text": [
      "100%|████████████████████████████████████████████████████████████████████████████| 3000/3000 [00:01<00:00, 1557.05it/s]\n",
      "100%|████████████████████████████████████████████████████████████████████████████| 3000/3000 [00:01<00:00, 1558.15it/s]\n",
      "100%|████████████████████████████████████████████████████████████████████████████| 4000/4000 [00:02<00:00, 1398.12it/s]\n",
      "100%|████████████████████████████████████████████████████████████████████████████| 3000/3000 [00:01<00:00, 2918.43it/s]\n"
     ]
    }
   ],
   "source": [
    "import dl\n",
    "\n",
    "x = [[0, 0], [1, 0], [0, 1], [1, 1]]\n",
    "and_y = [[0], [0], [0], [1]]\n",
    "or_y = [[0], [1], [1], [1]]\n",
    "xor_y = [[0], [1], [1], [0]]\n",
    "not_x = [[0], [1]]\n",
    "not_y = [[1], [0]]\n",
    "\n",
    "and_model = dl.Model([2, 2, 1], ['sigmoid', 'sigmoid'], [1e-2, 1e-1])\n",
    "or_model = dl.Model([2, 2, 1], ['sigmoid', 'sigmoid'], [1e-2, 1e-1])\n",
    "xor_model = dl.Model([2, 2, 1], ['sigmoid', 'sigmoid'], [1e-2, 1e-1])\n",
    "not_model = dl.Model([1, 2, 1], ['sigmoid', 'sigmoid'], [1e-2, 1e-1])\n",
    "\n",
    "and_model.momentum(x, and_y, batch_size=4, loss_fn='ce', alpha=2e-1, beta=0.99, epochs=4000)\n",
    "or_model.momentum(x, or_y, batch_size=4, loss_fn='ce', alpha=2e-1, beta=0.99, epochs=4000)\n",
    "xor_model.momentum(x, xor_y, batch_size=4, loss_fn='ce', alpha=2e-1, beta=0.99, epochs=4000)\n",
    "not_model.momentum(not_x, not_y, batch_size=2, loss_fn='ce', alpha=2e-1, beta=0.99, epochs=4000)"
   ]
  },
  {
   "cell_type": "code",
   "execution_count": 198,
   "metadata": {},
   "outputs": [],
   "source": [
    "def n_and(a, b):\n",
    "    return and_model.forward([a, b])[0]\n",
    "\n",
    "def n_or(a, b):\n",
    "    return or_model.forward([a, b])[0]\n",
    "\n",
    "def n_xor(a, b):\n",
    "    return xor_model.forward([a, b])[0]\n",
    "\n",
    "def n_not(a):\n",
    "    return not_model.forward([a])[0]"
   ]
  },
  {
   "cell_type": "code",
   "execution_count": 194,
   "metadata": {},
   "outputs": [
    {
     "name": "stdout",
     "output_type": "stream",
     "text": [
      "AND\n",
      "0 and 0 = 0 \n",
      "1 and 0 = 0 \n",
      "0 and 1 = 0 \n",
      "1 and 1 = 1 \n",
      "\n",
      "NN\n",
      "0 and 0 = 6.357246712755924e-06 \n",
      "1 and 0 = 6.537432543991522e-06 \n",
      "0 and 1 = 6.5745613163872656e-06 \n",
      "1 and 1 = 0.9999999999938223\n"
     ]
    }
   ],
   "source": [
    "print('AND\\n0 and 0 =', 0, '\\n1 and 0 =', 0, '\\n0 and 1 =', 0, '\\n1 and 1 =', 1, '\\n')\n",
    "print('NN\\n0 and 0 =', n_and(0, 0), '\\n1 and 0 =', n_and(1, 0), '\\n0 and 1 =', n_and(0, 1), '\\n1 and 1 =', n_and(1, 1))"
   ]
  },
  {
   "cell_type": "code",
   "execution_count": 195,
   "metadata": {},
   "outputs": [
    {
     "name": "stdout",
     "output_type": "stream",
     "text": [
      "OR\n",
      "0 or 0 = 0 \n",
      "1 or 0 = 1 \n",
      "0 or 1 = 1 \n",
      "1 or 1 = 1 \n",
      "\n",
      "NN\n",
      "0 or 0 = 7.08838520954996e-09 \n",
      "1 or 0 = 0.9999999999991471 \n",
      "0 or 1 = 0.9999999999991471 \n",
      "1 or 1 = 0.9999999999938223\n"
     ]
    }
   ],
   "source": [
    "print('OR\\n0 or 0 =', 0, '\\n1 or 0 =', 1, '\\n0 or 1 =', 1, '\\n1 or 1 =', 1, '\\n')\n",
    "print('NN\\n0 or 0 =', n_or(0, 0), '\\n1 or 0 =', n_or(1, 0), '\\n0 or 1 =', n_or(0, 1), '\\n1 or 1 =', n_and(1, 1))"
   ]
  },
  {
   "cell_type": "code",
   "execution_count": 196,
   "metadata": {},
   "outputs": [
    {
     "name": "stdout",
     "output_type": "stream",
     "text": [
      "XOR\n",
      "0 xor 0 = 0 \n",
      "1 xor 0 = 1 \n",
      "0 xor 1 = 1 \n",
      "1 xor 1 = 0 \n",
      "\n",
      "NN\n",
      "0 xor 0 = 1.163427037749458e-05 \n",
      "1 xor 0 = 0.9999702720771784 \n",
      "0 xor 1 = 0.999999993679173 \n",
      "1 xor 1 = 1.1622933390240522e-05\n"
     ]
    }
   ],
   "source": [
    "print('XOR\\n0 xor 0 =', 0, '\\n1 xor 0 =', 1, '\\n0 xor 1 =', 1, '\\n1 xor 1 =', 0, '\\n')\n",
    "print('NN\\n0 xor 0 =', n_xor(0, 0), '\\n1 xor 0 =', n_xor(1, 0), '\\n0 xor 1 =', n_xor(0, 1), '\\n1 xor 1 =', n_xor(1, 1))"
   ]
  },
  {
   "cell_type": "code",
   "execution_count": 199,
   "metadata": {},
   "outputs": [
    {
     "name": "stdout",
     "output_type": "stream",
     "text": [
      "NOT\n",
      "not 1 = 0 \n",
      "not 0 = 1 \n",
      "\n",
      "NN\n",
      "not 1 = 2.0060765041527847e-10 \n",
      "not 0 = 0.9999999999999565\n"
     ]
    }
   ],
   "source": [
    "print('NOT\\nnot 1 =', 0, '\\nnot 0 =', 1, '\\n')\n",
    "print('NN\\nnot 1 =', n_not(1), '\\nnot 0 =', n_not(0))"
   ]
  }
 ],
 "metadata": {
  "kernelspec": {
   "display_name": "Python 3",
   "language": "python",
   "name": "python3"
  },
  "language_info": {
   "codemirror_mode": {
    "name": "ipython",
    "version": 3
   },
   "file_extension": ".py",
   "mimetype": "text/x-python",
   "name": "python",
   "nbconvert_exporter": "python",
   "pygments_lexer": "ipython3",
   "version": "3.8.3"
  }
 },
 "nbformat": 4,
 "nbformat_minor": 4
}
