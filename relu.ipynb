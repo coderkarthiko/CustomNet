{
 "cells": [
  {
   "cell_type": "code",
   "execution_count": 1,
   "metadata": {},
   "outputs": [],
   "source": [
    "import customnet as cn\n",
    "import numpy as np\n",
    "from tensorflow.keras.datasets import mnist"
   ]
  },
  {
   "cell_type": "code",
   "execution_count": 2,
   "metadata": {},
   "outputs": [],
   "source": [
    "(x_train, y_train), (x_test, y_test) = mnist.load_data()\n",
    "\n",
    "x_train, x_test = x_train.reshape((60000, 784)) / 255.0, x_test.reshape((10000, 784)) / 255.0\n",
    "y_train_ohv, y_test_ohv = np.zeros((60000, 10)), np.zeros((10000, 10))\n",
    "\n",
    "for i in range(60000):\n",
    "    y_train_ohv[i][y_train[i]] = 1\n",
    "for i in range(10000):\n",
    "    y_test_ohv[i][y_test[i]] = 1"
   ]
  },
  {
   "cell_type": "code",
   "execution_count": 116,
   "metadata": {},
   "outputs": [
    {
     "name": "stderr",
     "output_type": "stream",
     "text": [
      "100%|██████████████████████████████████████████████████████████████████████████████████| 20/20 [09:02<00:00, 27.15s/it]\n"
     ]
    }
   ],
   "source": [
    "model = cn.Model([784, 24, 24, 10], ['relu', 'relu', 'relu'], [1e-3, 1e-2])\n",
    "model.momentum(\n",
    "    x_train[:60000],\n",
    "    y_train_ohv[:60000],\n",
    "    batch_size=10,\n",
    "    loss_fn='mse',\n",
    "    alpha=1e-2,\n",
    "    beta=0.75,\n",
    "    epochs=20\n",
    ")"
   ]
  },
  {
   "cell_type": "code",
   "execution_count": 117,
   "metadata": {},
   "outputs": [
    {
     "name": "stdout",
     "output_type": "stream",
     "text": [
      "96.17999999999999%\n"
     ]
    }
   ],
   "source": [
    "num = 10000\n",
    "ct = 0\n",
    "for i in range(num):\n",
    "    ct += y_test[i] == np.argmax(model.forward(x_test[i]))\n",
    "print(f'{ct/num * 100}%')"
   ]
  },
  {
   "cell_type": "code",
   "execution_count": 118,
   "metadata": {},
   "outputs": [
    {
     "name": "stderr",
     "output_type": "stream",
     "text": [
      "100%|██████████████████████████████████████████████████████████████████████████████████| 20/20 [07:56<00:00, 23.83s/it]\n"
     ]
    }
   ],
   "source": [
    "model = cn.Model([784, 24, 24, 10], ['relu', 'relu', 'relu'], [1e-3, 1e-2])\n",
    "model.momentum(\n",
    "    x_train[:60000],\n",
    "    y_train_ohv[:60000],\n",
    "    batch_size=10,\n",
    "    loss_fn='mse',\n",
    "    alpha=1e-2,\n",
    "    beta=0.8,\n",
    "    epochs=20\n",
    ")"
   ]
  },
  {
   "cell_type": "code",
   "execution_count": 119,
   "metadata": {},
   "outputs": [
    {
     "name": "stdout",
     "output_type": "stream",
     "text": [
      "95.7%\n"
     ]
    }
   ],
   "source": [
    "num = 10000\n",
    "ct = 0\n",
    "for i in range(num):\n",
    "    ct += y_test[i] == np.argmax(model.forward(x_test[i]))\n",
    "print(f'{ct/num * 100}%')"
   ]
  },
  {
   "cell_type": "code",
   "execution_count": 120,
   "metadata": {},
   "outputs": [
    {
     "name": "stderr",
     "output_type": "stream",
     "text": [
      "100%|██████████████████████████████████████████████████████████████████████████████████| 40/40 [15:57<00:00, 23.93s/it]\n"
     ]
    }
   ],
   "source": [
    "model = cn.Model([784, 24, 24, 10], ['relu', 'relu', 'relu'], [1e-3, 1e-2])\n",
    "model.momentum(\n",
    "    x_train[:60000],\n",
    "    y_train_ohv[:60000],\n",
    "    batch_size=10,\n",
    "    loss_fn='mse',\n",
    "    alpha=1e-2,\n",
    "    beta=0.75,\n",
    "    epochs=40\n",
    ")"
   ]
  },
  {
   "cell_type": "code",
   "execution_count": 121,
   "metadata": {},
   "outputs": [
    {
     "name": "stdout",
     "output_type": "stream",
     "text": [
      "95.84%\n"
     ]
    }
   ],
   "source": [
    "num = 10000\n",
    "ct = 0\n",
    "for i in range(num):\n",
    "    ct += y_test[i] == np.argmax(model.forward(x_test[i]))\n",
    "print(f'{ct/num * 100}%')"
   ]
  },
  {
   "cell_type": "code",
   "execution_count": 122,
   "metadata": {},
   "outputs": [
    {
     "name": "stderr",
     "output_type": "stream",
     "text": [
      "100%|██████████████████████████████████████████████████████████████████████████████████| 40/40 [18:39<00:00, 28.00s/it]\n"
     ]
    }
   ],
   "source": [
    "model = cn.Model([784, 24, 24, 10], ['relu', 'relu', 'relu'], [1e-3, 1e-2])\n",
    "model.momentum(\n",
    "    x_train[:60000],\n",
    "    y_train_ohv[:60000],\n",
    "    batch_size=10,\n",
    "    loss_fn='mse',\n",
    "    alpha=1e-2,\n",
    "    beta=0.7,\n",
    "    epochs=40\n",
    ")"
   ]
  },
  {
   "cell_type": "code",
   "execution_count": 123,
   "metadata": {},
   "outputs": [
    {
     "name": "stdout",
     "output_type": "stream",
     "text": [
      "96.55%\n"
     ]
    }
   ],
   "source": [
    "num = 10000\n",
    "ct = 0\n",
    "for i in range(num):\n",
    "    ct += y_test[i] == np.argmax(model.forward(x_test[i]))\n",
    "print(f'{ct/num * 100}%')"
   ]
  },
  {
   "cell_type": "code",
   "execution_count": 128,
   "metadata": {},
   "outputs": [
    {
     "name": "stderr",
     "output_type": "stream",
     "text": [
      "100%|████████████████████████████████████████████████████████████████████████████████| 100/100 [41:41<00:00, 25.02s/it]\n"
     ]
    }
   ],
   "source": [
    "model = cn.Model([784, 24, 24, 10], ['relu', 'relu', 'relu'], [1e-3, 1e-2])\n",
    "model.momentum(\n",
    "    x_train[:60000],\n",
    "    y_train_ohv[:60000],\n",
    "    batch_size=10,\n",
    "    loss_fn='mse',\n",
    "    alpha=1e-2,\n",
    "    beta=0.7,\n",
    "    epochs=100\n",
    ")"
   ]
  },
  {
   "cell_type": "code",
   "execution_count": 129,
   "metadata": {},
   "outputs": [
    {
     "name": "stdout",
     "output_type": "stream",
     "text": [
      "96.09%\n"
     ]
    }
   ],
   "source": [
    "num = 10000\n",
    "ct = 0\n",
    "for i in range(num):\n",
    "    ct += y_test[i] == np.argmax(model.forward(x_test[i]))\n",
    "print(f'{ct/num * 100}%')"
   ]
  }
 ],
 "metadata": {
  "kernelspec": {
   "display_name": "Python 3",
   "language": "python",
   "name": "python3"
  },
  "language_info": {
   "codemirror_mode": {
    "name": "ipython",
    "version": 3
   },
   "file_extension": ".py",
   "mimetype": "text/x-python",
   "name": "python",
   "nbconvert_exporter": "python",
   "pygments_lexer": "ipython3",
   "version": "3.8.3"
  }
 },
 "nbformat": 4,
 "nbformat_minor": 4
}
