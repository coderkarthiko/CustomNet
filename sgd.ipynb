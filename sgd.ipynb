{
 "cells": [
  {
   "cell_type": "markdown",
   "metadata": {},
   "source": [
    "## SGD with and without momentum comparison.\n",
    "Default SGD is just SGD with initial momentum = 0. We converge to a local minima much faster if we use SGD with non zero initial momentum."
   ]
  },
  {
   "cell_type": "code",
   "execution_count": 1,
   "metadata": {},
   "outputs": [],
   "source": [
    "import numpy as np\n",
    "import customnet as cn"
   ]
  },
  {
   "cell_type": "code",
   "execution_count": 2,
   "metadata": {},
   "outputs": [],
   "source": [
    "x = [np.array([4, 7, 9, 3, 11, 12, 8, 6, 10, 14])]\n",
    "y = [np.array([0, 0, 1, 0, 0, 0, 0, 0, 0, 0])]"
   ]
  },
  {
   "cell_type": "code",
   "execution_count": 3,
   "metadata": {},
   "outputs": [
    {
     "name": "stderr",
     "output_type": "stream",
     "text": [
      "100%|█████████████████████████████████████████████████████████████████████████████████| 10/10 [00:00<00:00, 997.81it/s]\n"
     ]
    }
   ],
   "source": [
    "ALPHA = 1e-2\n",
    "BETA = 0.99 # momentum > 0\n",
    "EPOCHS = 10\n",
    "\n",
    "model = cn.Model([10, 10], ['sigmoid'])\n",
    "model.SGD(x, y, batch_size=1, loss_fn='ce', alpha=ALPHA, beta=BETA, epochs=EPOCHS)\n",
    "out = model.forward(x[0])\n",
    "loss = np.sum(np.abs(y[0] - out))"
   ]
  },
  {
   "cell_type": "code",
   "execution_count": 4,
   "metadata": {},
   "outputs": [
    {
     "name": "stdout",
     "output_type": "stream",
     "text": [
      "prediction -  [8.32689989e-01 9.96654438e-01 1.00000000e+00 9.99983309e-01\n",
      " 6.08644806e-01 9.22909311e-02 9.99982575e-01 8.58477371e-02\n",
      " 1.51669770e-03 3.03076520e-08] \n",
      "loss -  4.617610512599518\n"
     ]
    }
   ],
   "source": [
    "print('prediction - ', out, '\\nloss - ', loss)"
   ]
  },
  {
   "cell_type": "code",
   "execution_count": 5,
   "metadata": {},
   "outputs": [
    {
     "name": "stderr",
     "output_type": "stream",
     "text": [
      "100%|████████████████████████████████████████████████████████████████████████████████| 60/60 [00:00<00:00, 2612.79it/s]\n"
     ]
    }
   ],
   "source": [
    "ALPHA = 1e-2\n",
    "BETA = 0 # momentum = 0 \n",
    "EPOCHS = 60\n",
    "\n",
    "model = cn.Model([10, 10], ['sigmoid'])\n",
    "model.SGD(x, y, batch_size=1, loss_fn='ce', alpha=ALPHA, beta=BETA, epochs=EPOCHS)\n",
    "out = model.forward(x[0])\n",
    "loss = np.sum(np.abs(y[0] - out))"
   ]
  },
  {
   "cell_type": "code",
   "execution_count": 6,
   "metadata": {},
   "outputs": [
    {
     "name": "stdout",
     "output_type": "stream",
     "text": [
      "prediction -  [0.95167594 0.04854016 1.         0.18353985 0.04677346 0.99273119\n",
      " 0.06819517 0.10432255 0.83626911 0.35303009] \n",
      "loss -  3.5850775304916516\n"
     ]
    }
   ],
   "source": [
    "print('prediction - ', out, '\\nloss - ', loss)"
   ]
  }
 ],
 "metadata": {
  "kernelspec": {
   "display_name": "Python 3",
   "language": "python",
   "name": "python3"
  },
  "language_info": {
   "codemirror_mode": {
    "name": "ipython",
    "version": 3
   },
   "file_extension": ".py",
   "mimetype": "text/x-python",
   "name": "python",
   "nbconvert_exporter": "python",
   "pygments_lexer": "ipython3",
   "version": "3.8.3"
  }
 },
 "nbformat": 4,
 "nbformat_minor": 4
}
