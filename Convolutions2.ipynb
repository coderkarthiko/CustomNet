{
 "cells": [
  {
   "cell_type": "code",
   "execution_count": 1,
   "metadata": {},
   "outputs": [],
   "source": [
    "import numpy as np\n",
    "import matplotlib.pyplot as plt\n",
    "import time\n",
    "from tqdm import tqdm\n",
    "from IPython.display import Image\n",
    "from tensorflow.keras.datasets import cifar10\n",
    "from tensorflow.keras.utils import to_categorical"
   ]
  },
  {
   "cell_type": "code",
   "execution_count": 2,
   "metadata": {},
   "outputs": [],
   "source": [
    "(x_train, y_train), (x_test, y_test) = cifar10.load_data()\n",
    "x_train, x_test = x_train / 255.0, x_test / 255.0\n",
    "y_train, y_test = to_categorical(y_train), to_categorical(y_test)"
   ]
  },
  {
   "cell_type": "code",
   "execution_count": 3,
   "metadata": {},
   "outputs": [
    {
     "data": {
      "text/plain": [
       "<matplotlib.image.AxesImage at 0x21998de19d0>"
      ]
     },
     "execution_count": 3,
     "metadata": {},
     "output_type": "execute_result"
    },
    {
     "data": {
      "image/png": "[encoded data removed]",
      "text/plain": [
       "<Figure size 432x288 with 1 Axes>"
      ]
     },
     "metadata": {
      "needs_background": "light"
     },
     "output_type": "display_data"
    }
   ],
   "source": [
    "x = x_train[12000]\n",
    "plt.axis('off')\n",
    "plt.imshow(x)"
   ]
  },
  {
   "cell_type": "code",
   "execution_count": 4,
   "metadata": {},
   "outputs": [
    {
     "data": {
      "text/plain": [
       "<matplotlib.image.AxesImage at 0x21998ddd190>"
      ]
     },
     "execution_count": 4,
     "metadata": {},
     "output_type": "execute_result"
    },
    {
     "data": {
      "image/png": "[encoded data removed]",
      "text/plain": [
       "<Figure size 432x288 with 1 Axes>"
      ]
     },
     "metadata": {
      "needs_background": "light"
     },
     "output_type": "display_data"
    }
   ],
   "source": [
    "y = np.random.choice(np.arange(0, 1, 0.1), (8, 8, 1))[:, :, 0]\n",
    "plt.axis('off')\n",
    "plt.imshow(y)"
   ]
  },
  {
   "cell_type": "code",
   "execution_count": 5,
   "metadata": {},
   "outputs": [
    {
     "name": "stderr",
     "output_type": "stream",
     "text": [
      "Clipping input data to the valid range for imshow with RGB data ([0..1] for floats or [0..255] for integers).\n"
     ]
    },
    {
     "data": {
      "text/plain": [
       "<matplotlib.image.AxesImage at 0x219b04d08e0>"
      ]
     },
     "execution_count": 5,
     "metadata": {},
     "output_type": "execute_result"
    },
    {
     "data": {
      "image/png": "[encoded data removed]",
      "text/plain": [
       "<Figure size 432x288 with 1 Axes>"
      ]
     },
     "metadata": {
      "needs_background": "light"
     },
     "output_type": "display_data"
    }
   ],
   "source": [
    "n = 6 ** 0.5\n",
    "strides = (4, 4)\n",
    "bias = np.random.uniform(0, n / 16, (8, 8, 3))\n",
    "plt.axis('off')\n",
    "plt.imshow(bias * 10)"
   ]
  },
  {
   "cell_type": "code",
   "execution_count": 6,
   "metadata": {},
   "outputs": [
    {
     "name": "stdout",
     "output_type": "stream",
     "text": [
      "[[[[2.50203414e-03 1.27166412e-02 3.69002402e-03]\n",
      "   [8.74984309e-03 1.10964635e-02 7.58856822e-04]\n",
      "   [1.42951093e-02 1.25141672e-02 2.87536465e-03]\n",
      "   [7.03445983e-03 1.03111256e-02 1.41684454e-03]]\n",
      "\n",
      "  [[4.78918535e-03 1.00012229e-02 9.40164979e-03]\n",
      "   [8.39499279e-03 1.79651720e-03 1.48161955e-02]\n",
      "   [3.74459253e-03 7.13276675e-03 3.94831095e-03]\n",
      "   [7.00699750e-03 3.87863686e-03 1.57659444e-02]]\n",
      "\n",
      "  [[7.35878057e-03 1.24971753e-02 3.70656345e-03]\n",
      "   [9.09363351e-03 5.10360709e-03 9.77429132e-03]\n",
      "   [1.42699265e-03 1.69457299e-02 9.76661016e-04]\n",
      "   [1.36762898e-02 1.49732752e-02 1.50168822e-02]]\n",
      "\n",
      "  [[8.79571071e-03 1.43233503e-03 5.34213951e-03]\n",
      "   [8.21320217e-03 5.83777652e-03 6.10456315e-03]\n",
      "   [2.94038708e-03 9.44185506e-03 1.05658177e-02]\n",
      "   [5.24382628e-03 3.94684495e-03 1.47416857e-02]]]\n",
      "\n",
      "\n",
      " [[[8.25648367e-04 9.39205599e-03 8.91754279e-03]\n",
      "   [4.49565480e-03 3.40219988e-03 1.46225593e-02]\n",
      "   [5.70539034e-03 9.34649838e-03 1.11456283e-02]\n",
      "   [1.25979849e-02 1.51081789e-02 1.30150414e-02]]\n",
      "\n",
      "  [[1.61766333e-02 1.19706236e-02 1.47918554e-02]\n",
      "   [1.27788801e-02 2.99127766e-03 9.19150944e-03]\n",
      "   [1.13526600e-02 6.22601265e-04 5.21276809e-03]\n",
      "   [8.32904740e-03 8.12452417e-03 1.56701960e-02]]\n",
      "\n",
      "  [[2.34985670e-03 9.83635913e-03 4.14901256e-03]\n",
      "   [1.24918584e-04 5.84825267e-03 8.47897776e-03]\n",
      "   [1.18153704e-02 1.09272657e-02 4.03593297e-03]\n",
      "   [1.16778101e-02 2.29653672e-03 7.50262438e-04]]\n",
      "\n",
      "  [[3.72028664e-03 1.04997052e-02 1.41301704e-02]\n",
      "   [2.49429831e-03 1.15892809e-02 1.00148350e-03]\n",
      "   [1.27825790e-03 5.98506146e-03 8.61125408e-03]\n",
      "   [4.35740354e-03 3.28550159e-03 6.91547237e-03]]]\n",
      "\n",
      "\n",
      " [[[1.65760295e-02 1.06652025e-02 1.36505760e-02]\n",
      "   [6.82403496e-03 5.49451022e-03 1.14703793e-02]\n",
      "   [2.47115480e-03 1.31434924e-03 1.07609103e-02]\n",
      "   [1.11979736e-02 1.17275303e-02 3.30095699e-03]]\n",
      "\n",
      "  [[1.22313517e-02 1.36980959e-02 7.15710087e-03]\n",
      "   [1.26591673e-02 1.35481511e-02 9.30099525e-03]\n",
      "   [1.35648105e-02 1.33994524e-02 8.41587015e-03]\n",
      "   [1.04852645e-02 4.14417909e-04 4.39897669e-03]]\n",
      "\n",
      "  [[1.54354901e-03 6.58578747e-03 1.17221923e-03]\n",
      "   [1.01895383e-02 1.24932415e-02 7.12126737e-03]\n",
      "   [4.19524782e-03 1.04345427e-02 1.18207465e-04]\n",
      "   [6.27687009e-03 1.59547628e-03 4.81244262e-03]]\n",
      "\n",
      "  [[3.41362259e-03 1.49984581e-02 1.03719033e-03]\n",
      "   [1.35327853e-02 1.15781718e-02 1.52974683e-02]\n",
      "   [1.56874184e-02 9.02629046e-03 6.01553195e-05]\n",
      "   [5.41264169e-03 8.48136953e-03 9.90455716e-03]]]]\n"
     ]
    },
    {
     "data": {
      "image/png": "[encoded data removed]",
      "text/plain": [
       "<Figure size 720x720 with 3 Axes>"
      ]
     },
     "metadata": {
      "needs_background": "light"
     },
     "output_type": "display_data"
    }
   ],
   "source": [
    "filters = np.random.uniform(0, n / 144, (3, 4, 4, 3))\n",
    "print(filters)\n",
    "fig = plt.figure(figsize=(10, 10))\n",
    "for i in range(3):\n",
    "    plt.subplot(3, 1, i + 1)\n",
    "    plt.axis('off')\n",
    "    plt.imshow(filters[i] * 50)\n",
    "plt.show()"
   ]
  },
  {
   "cell_type": "code",
   "execution_count": 7,
   "metadata": {},
   "outputs": [],
   "source": [
    "v = np.zeros((8, 8, 3))\n",
    "for i in range(4):\n",
    "    for j in range(4):\n",
    "        for k in range(3):\n",
    "            v[i, j, k] = np.sum(filters[k] * x[4 * i:4 * (i + 1), 4 * j:4 * (j + 1)])\n",
    "v += bias"
   ]
  },
  {
   "cell_type": "code",
   "execution_count": 8,
   "metadata": {},
   "outputs": [
    {
     "data": {
      "text/plain": [
       "<matplotlib.image.AxesImage at 0x219aca64d60>"
      ]
     },
     "execution_count": 8,
     "metadata": {},
     "output_type": "execute_result"
    },
    {
     "data": {
      "image/png": "[encoded data removed]",
      "text/plain": [
       "<Figure size 432x288 with 1 Axes>"
      ]
     },
     "metadata": {
      "needs_background": "light"
     },
     "output_type": "display_data"
    }
   ],
   "source": [
    "plt.axis('off')\n",
    "plt.imshow(v)"
   ]
  },
  {
   "cell_type": "markdown",
   "metadata": {},
   "source": [
    "### CNN forward and backward pass"
   ]
  },
  {
   "cell_type": "code",
   "execution_count": 9,
   "metadata": {},
   "outputs": [],
   "source": [
    "def cnnforward(x, filters, bias, strides):\n",
    "    filters_dim, output_dim = np.shape(filters), np.shape(bias)\n",
    "    z = np.zeros(output_dim)\n",
    "    for i in range(output_dim[0]):\n",
    "        r_, _r = strides[0] * i, strides[0] * i + filters_dim[1]\n",
    "        for j in range(output_dim[1]):\n",
    "            z[i, j] = [np.sum(fltr * x[r_:_r, strides[1] * j:strides[1] * j + filters_dim[2]]) for fltr in filters]\n",
    "    return z + bias"
   ]
  },
  {
   "cell_type": "code",
   "execution_count": 10,
   "metadata": {},
   "outputs": [],
   "source": [
    "def cnnbackward(x, filters, error, strides):\n",
    "    filters_dim, output_dim, input_dim = np.shape(filters), np.shape(error), np.shape(x)\n",
    "    filters_grad, x_grad = np.zeros(filters_dim), np.zeros(input_dim)\n",
    "    for i in range(output_dim[0]):\n",
    "        r_, _r = strides[0] * i, strides[0] * i + filters_dim[1]\n",
    "        for j in range(output_dim[1]):\n",
    "            c_, _c = strides[1] * j, strides[1] * j + filters_dim[2]\n",
    "            filters_grad += [err * x[r_:_r, c_:_c] for err in error[i, j]]\n",
    "            x_grad[r_:_r, c_:_c] = np.sum([err * fltr for err, fltr in zip(error[i, j], filters)], 0)\n",
    "    return filters_grad, x_grad"
   ]
  },
  {
   "cell_type": "code",
   "execution_count": 11,
   "metadata": {},
   "outputs": [
    {
     "data": {
      "text/plain": [
       "<matplotlib.image.AxesImage at 0x219a0dcaeb0>"
      ]
     },
     "execution_count": 11,
     "metadata": {},
     "output_type": "execute_result"
    },
    {
     "data": {
      "image/png": "[encoded data removed]",
      "text/plain": [
       "<Figure size 432x288 with 1 Axes>"
      ]
     },
     "metadata": {
      "needs_background": "light"
     },
     "output_type": "display_data"
    }
   ],
   "source": [
    "output = cnnforward(x, filters, bias, strides)\n",
    "plt.axis('off')\n",
    "plt.imshow(output)"
   ]
  },
  {
   "cell_type": "code",
   "execution_count": 12,
   "metadata": {},
   "outputs": [
    {
     "data": {
      "text/plain": [
       "<matplotlib.image.AxesImage at 0x219b067a820>"
      ]
     },
     "execution_count": 12,
     "metadata": {},
     "output_type": "execute_result"
    },
    {
     "data": {
      "image/png": "[encoded data removed]",
      "text/plain": [
       "<Figure size 432x288 with 1 Axes>"
      ]
     },
     "metadata": {
      "needs_background": "light"
     },
     "output_type": "display_data"
    }
   ],
   "source": [
    "y = np.ones((8, 8, 3)) * 0.5\n",
    "plt.axis('off')\n",
    "plt.imshow(y)"
   ]
  },
  {
   "cell_type": "code",
   "execution_count": 13,
   "metadata": {},
   "outputs": [
    {
     "data": {
      "text/plain": [
       "<matplotlib.image.AxesImage at 0x219b06b4490>"
      ]
     },
     "execution_count": 13,
     "metadata": {},
     "output_type": "execute_result"
    },
    {
     "data": {
      "image/png": "[encoded data removed]",
      "text/plain": [
       "<Figure size 432x288 with 1 Axes>"
      ]
     },
     "metadata": {
      "needs_background": "light"
     },
     "output_type": "display_data"
    }
   ],
   "source": [
    "error = output - y\n",
    "plt.axis('off')\n",
    "plt.imshow(error[:, :, 0])"
   ]
  },
  {
   "cell_type": "code",
   "execution_count": 14,
   "metadata": {},
   "outputs": [
    {
     "data": {
      "text/plain": [
       "[<matplotlib.lines.Line2D at 0x219b0741910>]"
      ]
     },
     "execution_count": 14,
     "metadata": {},
     "output_type": "execute_result"
    },
    {
     "data": {
      "image/png": "[encoded data removed]",
      "text/plain": [
       "<Figure size 432x288 with 1 Axes>"
      ]
     },
     "metadata": {
      "needs_background": "light"
     },
     "output_type": "display_data"
    }
   ],
   "source": [
    "# altering biases only\n",
    "losses = []\n",
    "for i in range(200):\n",
    "    output = cnnforward(x, filters, bias, strides)\n",
    "    error = output - y\n",
    "    bias -= 1e-1 * error\n",
    "    losses.append(0.5 * np.sum(error ** 2))\n",
    "plt.plot(losses)"
   ]
  },
  {
   "cell_type": "code",
   "execution_count": 15,
   "metadata": {},
   "outputs": [
    {
     "data": {
      "text/plain": [
       "<matplotlib.image.AxesImage at 0x219b0765b50>"
      ]
     },
     "execution_count": 15,
     "metadata": {},
     "output_type": "execute_result"
    },
    {
     "data": {
      "image/png": "[encoded data removed]",
      "text/plain": [
       "<Figure size 432x288 with 1 Axes>"
      ]
     },
     "metadata": {
      "needs_background": "light"
     },
     "output_type": "display_data"
    }
   ],
   "source": [
    "output = cnnforward(x, filters, bias, strides)\n",
    "plt.axis('off')\n",
    "plt.imshow(output)"
   ]
  },
  {
   "cell_type": "code",
   "execution_count": 16,
   "metadata": {},
   "outputs": [],
   "source": [
    "x, y = x_train[1000], np.ones((2, 2, 1)) * 0.5\n",
    "strides = (16, 16)\n",
    "bias = np.random.uniform(-1e-3, 1e-3, (2, 2, 1))\n",
    "filters = np.random.uniform(-1e-3, 1e-3, (1, 16, 16, 3))"
   ]
  },
  {
   "cell_type": "code",
   "execution_count": 17,
   "metadata": {},
   "outputs": [
    {
     "data": {
      "text/plain": [
       "array([[[0.5],\n",
       "        [0.5]],\n",
       "\n",
       "       [[0.5],\n",
       "        [0.5]]])"
      ]
     },
     "execution_count": 17,
     "metadata": {},
     "output_type": "execute_result"
    }
   ],
   "source": [
    "y"
   ]
  },
  {
   "cell_type": "code",
   "execution_count": 18,
   "metadata": {},
   "outputs": [],
   "source": [
    "losses = []\n",
    "for i in range(100):\n",
    "    output = cnnforward(x, filters, bias, strides)\n",
    "    error = output - y\n",
    "    bias -= 1e-3 * error\n",
    "    filters_grad, x_grad = cnnbackward(x, filters, error, strides) \n",
    "    filters -= 1e-3 * filters_grad \n",
    "    losses.append(0.5 * np.sum(error ** 2))"
   ]
  },
  {
   "cell_type": "code",
   "execution_count": 19,
   "metadata": {},
   "outputs": [
    {
     "data": {
      "text/plain": [
       "[<matplotlib.lines.Line2D at 0x219b0808f40>]"
      ]
     },
     "execution_count": 19,
     "metadata": {},
     "output_type": "execute_result"
    },
    {
     "data": {
      "image/png": "[encoded data removed]",
      "text/plain": [
       "<Figure size 432x288 with 1 Axes>"
      ]
     },
     "metadata": {
      "needs_background": "light"
     },
     "output_type": "display_data"
    }
   ],
   "source": [
    "plt.plot(losses)"
   ]
  },
  {
   "cell_type": "code",
   "execution_count": 20,
   "metadata": {},
   "outputs": [
    {
     "data": {
      "text/plain": [
       "array([[[0.49361416],\n",
       "        [0.5114092 ]],\n",
       "\n",
       "       [[0.49128929],\n",
       "        [0.49794828]]])"
      ]
     },
     "execution_count": 20,
     "metadata": {},
     "output_type": "execute_result"
    }
   ],
   "source": [
    "output = cnnforward(x, filters, bias, strides)\n",
    "output"
   ]
  },
  {
   "cell_type": "markdown",
   "metadata": {},
   "source": [
    "### Max pooling forward and backward pass"
   ]
  },
  {
   "cell_type": "code",
   "execution_count": 21,
   "metadata": {},
   "outputs": [
    {
     "data": {
      "text/plain": [
       "<matplotlib.image.AxesImage at 0x219b0864d30>"
      ]
     },
     "execution_count": 21,
     "metadata": {},
     "output_type": "execute_result"
    },
    {
     "data": {
      "image/png": "[encoded data removed]",
      "text/plain": [
       "<Figure size 432x288 with 1 Axes>"
      ]
     },
     "metadata": {
      "needs_background": "light"
     },
     "output_type": "display_data"
    }
   ],
   "source": [
    "x = x_train[0]\n",
    "plt.imshow(x)"
   ]
  },
  {
   "cell_type": "code",
   "execution_count": 22,
   "metadata": {},
   "outputs": [
    {
     "name": "stdout",
     "output_type": "stream",
     "text": [
      "0.592156862745098\n",
      "0.4627450980392157\n",
      "0.32941176470588235\n"
     ]
    }
   ],
   "source": [
    "for i in range(3):\n",
    "    print(np.max(x[30:32, 30:32, i]))"
   ]
  },
  {
   "cell_type": "code",
   "execution_count": 23,
   "metadata": {},
   "outputs": [
    {
     "data": {
      "text/plain": [
       "0.016987323760986328"
      ]
     },
     "execution_count": 23,
     "metadata": {},
     "output_type": "execute_result"
    }
   ],
   "source": [
    "s = time.time()\n",
    "z = np.zeros((16, 16, 3))\n",
    "for i in range(16):\n",
    "    r_, _r = i * 2, i * 2 + 2\n",
    "    for j in range(16):\n",
    "        c_, _c = j * 2, j * 2 + 2\n",
    "        z[i, j] = [np.max(x[r_:_r, c_:_c, k]) for k in range(3)]\n",
    "e = time.time()\n",
    "e - s"
   ]
  },
  {
   "cell_type": "code",
   "execution_count": 24,
   "metadata": {},
   "outputs": [
    {
     "data": {
      "text/plain": [
       "<matplotlib.image.AxesImage at 0x219b08bf730>"
      ]
     },
     "execution_count": 24,
     "metadata": {},
     "output_type": "execute_result"
    },
    {
     "data": {
      "image/png": "[encoded data removed]",
      "text/plain": [
       "<Figure size 432x288 with 1 Axes>"
      ]
     },
     "metadata": {
      "needs_background": "light"
     },
     "output_type": "display_data"
    }
   ],
   "source": [
    "plt.imshow(z)"
   ]
  },
  {
   "cell_type": "code",
   "execution_count": 25,
   "metadata": {},
   "outputs": [],
   "source": [
    "def poolforward(x, pool_size, strides):\n",
    "    input_dim = np.shape(x)\n",
    "    output_dim = (int((input_dim[0] - pool_size[0]) / strides[0] + 1), int((input_dim[1] - pool_size[1]) / strides[1] + 1), input_dim[2])\n",
    "    z, indices = np.zeros(output_dim), np.zeros(output_dim)\n",
    "    for i in range(output_dim[0]):\n",
    "        r_, _r = strides[0] * i, strides[0] * i + pool_size[0]\n",
    "        for j in range(output_dim[1]):\n",
    "            c_, _c = strides[1] * j, strides[1] * j + pool_size[1]\n",
    "            fmaps = [x[r_:_r, c_:_c, k] for k in range(output_dim[2])] \n",
    "            indices_ij = [np.argmax(fmap) for fmap in fmaps]\n",
    "            indices[i, j] = indices_ij\n",
    "            z[i, j] = [x[r_ + int(indices_ij[k] // pool_size[1]), c_ + int(indices_ij[k] % pool_size[0]), k] for k in range(output_dim[2])]\n",
    "    return z, indices"
   ]
  },
  {
   "cell_type": "code",
   "execution_count": 26,
   "metadata": {},
   "outputs": [],
   "source": [
    "pool_size, strides = (2, 2), (2, 2)"
   ]
  },
  {
   "cell_type": "code",
   "execution_count": 27,
   "metadata": {},
   "outputs": [
    {
     "data": {
      "text/plain": [
       "0.012090921401977539"
      ]
     },
     "execution_count": 27,
     "metadata": {},
     "output_type": "execute_result"
    }
   ],
   "source": [
    "s = time.time()\n",
    "z, indices = poolforward(x, pool_size, strides)\n",
    "e = time.time()\n",
    "e - s"
   ]
  },
  {
   "cell_type": "code",
   "execution_count": 28,
   "metadata": {},
   "outputs": [
    {
     "data": {
      "text/plain": [
       "<matplotlib.image.AxesImage at 0x219b0920670>"
      ]
     },
     "execution_count": 28,
     "metadata": {},
     "output_type": "execute_result"
    },
    {
     "data": {
      "image/png": "[encoded data removed]",
      "text/plain": [
       "<Figure size 432x288 with 1 Axes>"
      ]
     },
     "metadata": {
      "needs_background": "light"
     },
     "output_type": "display_data"
    }
   ],
   "source": [
    "plt.imshow(z)"
   ]
  },
  {
   "cell_type": "code",
   "execution_count": 29,
   "metadata": {},
   "outputs": [
    {
     "data": {
      "text/plain": [
       "(3.0, 1.0, 1.0)"
      ]
     },
     "execution_count": 29,
     "metadata": {},
     "output_type": "execute_result"
    }
   ],
   "source": [
    "indices[0, 2, 0], indices[0, 2, 1], indices[0, 2, 2]"
   ]
  },
  {
   "cell_type": "code",
   "execution_count": 30,
   "metadata": {},
   "outputs": [
    {
     "name": "stdout",
     "output_type": "stream",
     "text": [
      "[0. 0. 0.] [1. 1. 0.] [3. 1. 1.] [1. 1. 1.] [0. 1. 1.] [0. 0. 0.] [1. 0. 0.] [0. 0. 0.] [0. 0. 0.] [1. 1. 1.] \n",
      "\n",
      "[3. 2. 0.] [3. 3. 3.] [1. 1. 1.] [0. 0. 0.] [3. 3. 3.] [2. 2. 2.] [3. 3. 3.] [2. 1. 1.] [0. 0. 0.] [2. 2. 2.] \n",
      "\n",
      "[3. 3. 2.] [3. 3. 1.] [2. 2. 2.] [2. 2. 2.] [1. 1. 1.] [0. 0. 0.] [1. 1. 1.] [0. 0. 0.] [1. 1. 1.] [1. 0. 0.] \n",
      "\n",
      "[3. 2. 2.] [3. 3. 3.] [0. 0. 2.] [2. 2. 2.] [1. 1. 1.] [2. 2. 2.] [0. 0. 0.] [1. 0. 0.] [3. 3. 3.] [2. 2. 2.] \n",
      "\n",
      "[2. 2. 2.] [2. 2. 2.] [3. 2. 2.] [1. 3. 3.] [1. 1. 3.] [0. 0. 0.] [3. 3. 3.] [3. 3. 2.] [1. 1. 1.] [0. 0. 0.] \n",
      "\n",
      "[1. 0. 0.] [0. 0. 0.] [1. 0. 1.] [0. 0. 0.] [0. 0. 0.] [3. 3. 3.] [3. 3. 3.] [2. 2. 2.] [2. 2. 2.] [2. 2. 2.] \n",
      "\n",
      "[2. 2. 2.] [1. 2. 2.] [0. 0. 0.] [1. 1. 0.] [0. 0. 0.] [3. 3. 3.] [1. 3. 3.] [2. 2. 2.] [2. 2. 2.] [3. 2. 0.] \n",
      "\n",
      "[1. 2. 0.] [0. 0. 0.] [0. 2. 0.] [1. 1. 1.] [3. 3. 3.] [2. 2. 2.] [3. 1. 1.] [3. 3. 3.] [2. 2. 2.] [2. 2. 2.] \n",
      "\n",
      "[0. 0. 0.] [1. 3. 3.] [2. 2. 2.] [3. 3. 3.] [3. 3. 3.] [0. 0. 0.] [3. 3. 3.] [1. 1. 1.] [0. 0. 0.] [0. 0. 0.] \n",
      "\n",
      "[0. 0. 0.] [3. 3. 1.] [3. 3. 0.] [3. 3. 3.] [2. 2. 2.] [1. 2. 0.] [0. 1. 1.] [0. 0. 0.] [0. 0. 0.] [2. 2. 1.] \n",
      "\n"
     ]
    }
   ],
   "source": [
    "for i in range(10):\n",
    "    for j in range(10):\n",
    "        print(indices[i, j], end=' ')\n",
    "    print('\\n')"
   ]
  },
  {
   "cell_type": "code",
   "execution_count": 31,
   "metadata": {},
   "outputs": [],
   "source": [
    "def poolbackward(error, amxs, strides):\n",
    "    input_dim = np.shape(error)\n",
    "    output_dim = ((input_dim[0] - 1) * strides[0] + pool_size[0], (input_dim[1] - 1) * strides[1] + pool_size[1], input_dim[2])\n",
    "    x_grad = np.zeros(output_dim)\n",
    "    for i in range(input_dim[0]):\n",
    "        r = strides[0] * i\n",
    "        for j in range(input_dim[1]):\n",
    "            c = strides[1] * j\n",
    "            argmaxes = amxs[i, j]\n",
    "            indices_ij = [[r + int(amx // pool_size[1]), c + int(amx % pool_size[0])] for amx in argmaxes]\n",
    "            for k in range(input_dim[2]):\n",
    "                x_grad[indices_ij[k][0], indices_ij[k][1], k] = error[i, j, k]\n",
    "    return x_grad"
   ]
  },
  {
   "cell_type": "code",
   "execution_count": 32,
   "metadata": {},
   "outputs": [
    {
     "data": {
      "text/plain": [
       "0.005013227462768555"
      ]
     },
     "execution_count": 32,
     "metadata": {},
     "output_type": "execute_result"
    }
   ],
   "source": [
    "s = time.time()\n",
    "x_grad = poolbackward(z, indices, strides)\n",
    "e = time.time()\n",
    "e - s"
   ]
  },
  {
   "cell_type": "code",
   "execution_count": 33,
   "metadata": {},
   "outputs": [
    {
     "data": {
      "text/plain": [
       "<matplotlib.image.AxesImage at 0x219b097e670>"
      ]
     },
     "execution_count": 33,
     "metadata": {},
     "output_type": "execute_result"
    },
    {
     "data": {
      "image/png": "[encoded data removed]",
      "text/plain": [
       "<Figure size 432x288 with 1 Axes>"
      ]
     },
     "metadata": {
      "needs_background": "light"
     },
     "output_type": "display_data"
    }
   ],
   "source": [
    "plt.imshow(x_grad)"
   ]
  },
  {
   "cell_type": "code",
   "execution_count": 34,
   "metadata": {},
   "outputs": [],
   "source": [
    "def relu(x): \n",
    "    return np.maximum(x, 0)\n",
    "\n",
    "\n",
    "def sigmoid(x): \n",
    "    return 1 / (1 + np.exp(-x))\n",
    "\n",
    "\n",
    "def softmax(x): \n",
    "    exps = np.exp(x - np.max(x))\n",
    "    return exps / np.sum(exps)"
   ]
  },
  {
   "cell_type": "code",
   "execution_count": 35,
   "metadata": {},
   "outputs": [],
   "source": [
    "filters1 = np.random.normal(0, (2 / (32 * 32 * 3 + 8 * 8 * 3)) ** 0.5, (3, 4, 4, 3))\n",
    "bias1 = np.random.normal(0, (2 / 8 * 8 * 3) ** 0.5, (8, 8, 3))\n",
    "strides1 = (4, 4)\n",
    "pool_size1, strides2 = (2, 2), (2, 2)\n",
    "w = np.random.uniform(-(6 / 26) ** 0.5, (6 / 26) ** 0.5, (10, 192))\n",
    "b = np.random.uniform(-(6 / 26) ** 0.5, (6 / 26) ** 0.5, (10))"
   ]
  },
  {
   "cell_type": "code",
   "execution_count": 36,
   "metadata": {},
   "outputs": [],
   "source": [
    "def forward(x):\n",
    "    L = [x]\n",
    "    L.append(relu(cnnforward(L[-1], filters1, bias1, strides1)))\n",
    "    L.append(L[-1].ravel())\n",
    "    L.append(softmax(np.dot(w, L[-1]) + b))\n",
    "    return L"
   ]
  },
  {
   "cell_type": "code",
   "execution_count": 37,
   "metadata": {},
   "outputs": [
    {
     "name": "stdout",
     "output_type": "stream",
     "text": [
      "[8.72574639e-03 1.96928649e-04 3.95132128e-02 3.03759453e-10\n",
      " 6.91041051e-01 3.04557265e-10 2.07357313e-05 4.21873131e-07\n",
      " 2.60501682e-01 2.20785483e-07]\n"
     ]
    },
    {
     "data": {
      "text/plain": [
       "0.004183292388916016"
      ]
     },
     "execution_count": 37,
     "metadata": {},
     "output_type": "execute_result"
    }
   ],
   "source": [
    "s = time.time()\n",
    "print(forward(x)[-1])\n",
    "e = time.time()\n",
    "e - s"
   ]
  },
  {
   "cell_type": "code",
   "execution_count": 38,
   "metadata": {},
   "outputs": [
    {
     "name": "stdout",
     "output_type": "stream",
     "text": [
      "accuracy 10.0 %\n"
     ]
    },
    {
     "data": {
      "text/plain": [
       "0.1955244541168213"
      ]
     },
     "execution_count": 38,
     "metadata": {},
     "output_type": "execute_result"
    }
   ],
   "source": [
    "ct = 0\n",
    "s = time.time()\n",
    "for i in range(50):\n",
    "    ct += np.argmax(y_train[i]) == np.argmax(forward(x_train[i])[-1])\n",
    "e = time.time()\n",
    "\n",
    "print('accuracy', 100 * ct / 50, '%')\n",
    "e - s"
   ]
  },
  {
   "cell_type": "code",
   "execution_count": 39,
   "metadata": {},
   "outputs": [],
   "source": [
    "filters1_grad = np.zeros(np.shape(filters1))\n",
    "bias1_grad = np.zeros(np.shape(bias1))\n",
    "w_grad = np.zeros(np.shape(w))\n",
    "b_grad = np.zeros(np.shape(b))"
   ]
  },
  {
   "cell_type": "code",
   "execution_count": 40,
   "metadata": {},
   "outputs": [],
   "source": [
    "def backward(error, L):\n",
    "    b_grad = error\n",
    "    w_grad = np.outer(error, L[-2])\n",
    "    error = np.reshape(np.dot(np.transpose(w), error), (8, 8, 3)) # poolbackward(np.reshape(np.dot(np.transpose(w), error), (4, 4, 3)), L[-3][1], strides2) > 0\n",
    "    bias1_grad = error\n",
    "    filters1_grad, x_grad = cnnbackward(L[0], filters1, error, strides1)\n",
    "    return b_grad, w_grad, bias1_grad, filters1_grad"
   ]
  },
  {
   "cell_type": "code",
   "execution_count": 41,
   "metadata": {},
   "outputs": [
    {
     "data": {
      "text/plain": [
       "array([ 6.63020215e-03,  1.47107936e-04,  2.99902593e-02,  2.61168929e-10,\n",
       "        7.44095305e-01,  2.63719727e-10,  1.50838788e-05,  3.72810282e-07,\n",
       "       -7.80878540e-01,  2.08759867e-07])"
      ]
     },
     "execution_count": 41,
     "metadata": {},
     "output_type": "execute_result"
    }
   ],
   "source": [
    "L = forward(x_train[100])\n",
    "error = L[-1] - y_train[100]\n",
    "error"
   ]
  },
  {
   "cell_type": "code",
   "execution_count": 42,
   "metadata": {},
   "outputs": [],
   "source": [
    "b_grad, w_grad, bias1_grad, filters1_grad = backward(error, L)"
   ]
  },
  {
   "cell_type": "code",
   "execution_count": 43,
   "metadata": {},
   "outputs": [
    {
     "name": "stderr",
     "output_type": "stream",
     "text": [
      "Clipping input data to the valid range for imshow with RGB data ([0..1] for floats or [0..255] for integers).\n"
     ]
    },
    {
     "name": "stdout",
     "output_type": "stream",
     "text": [
      "b_grad - [ 6.63020215e-03  1.47107936e-04  2.99902593e-02  2.61168929e-10\n",
      "  7.44095305e-01  2.63719727e-10  1.50838788e-05  3.72810282e-07\n",
      " -7.80878540e-01  2.08759867e-07] \n",
      "\n"
     ]
    },
    {
     "data": {
      "image/png": "[encoded data removed]",
      "text/plain": [
       "<Figure size 720x720 with 2 Axes>"
      ]
     },
     "metadata": {
      "needs_background": "light"
     },
     "output_type": "display_data"
    }
   ],
   "source": [
    "print('b_grad -', b_grad, '\\n')\n",
    "fig = plt.figure(figsize=(10, 10))\n",
    "plt.subplot(2, 1, 1)\n",
    "plt.title('w_grad')\n",
    "plt.imshow(w_grad)\n",
    "plt.subplot(2, 1, 2)\n",
    "plt.title('bias1_grad')\n",
    "plt.imshow(bias1_grad.astype('float64'))\n",
    "plt.show()"
   ]
  },
  {
   "cell_type": "code",
   "execution_count": 44,
   "metadata": {},
   "outputs": [],
   "source": [
    "losses = []\n",
    "for _ in range(2):\n",
    "    L = forward(x_train[100])\n",
    "    error = L[-1] - y_train[100]\n",
    "    b_grad, w_grad, bias1_grad, filters1_grad = backward(error, L)\n",
    "    b -= 1e-2 * b_grad\n",
    "    w -= 1e-2 * w_grad\n",
    "    bias1 -= 1e-2 * bias1_grad\n",
    "    filters1 -= 1e-2 * filters1_grad\n",
    "    losses.append(0.5 * np.sum(error) ** 2)"
   ]
  },
  {
   "cell_type": "code",
   "execution_count": 45,
   "metadata": {},
   "outputs": [
    {
     "data": {
      "text/plain": [
       "[<matplotlib.lines.Line2D at 0x219b0dc81f0>]"
      ]
     },
     "execution_count": 45,
     "metadata": {},
     "output_type": "execute_result"
    },
    {
     "data": {
      "image/png": "[encoded data removed]",
      "text/plain": [
       "<Figure size 432x288 with 1 Axes>"
      ]
     },
     "metadata": {
      "needs_background": "light"
     },
     "output_type": "display_data"
    }
   ],
   "source": [
    "plt.plot(losses)"
   ]
  },
  {
   "cell_type": "code",
   "execution_count": 46,
   "metadata": {},
   "outputs": [
    {
     "data": {
      "text/plain": [
       "array([0., 0., 0., 0., 0., 0., 0., 0., 1., 0.], dtype=float32)"
      ]
     },
     "execution_count": 46,
     "metadata": {},
     "output_type": "execute_result"
    }
   ],
   "source": [
    "y_train[100]"
   ]
  },
  {
   "cell_type": "code",
   "execution_count": 47,
   "metadata": {},
   "outputs": [
    {
     "data": {
      "text/plain": [
       "array([3.23347099e-21, 1.50843249e-20, 4.92864472e-20, 1.79461258e-30,\n",
       "       1.66798514e-41, 6.81913017e-28, 5.21751375e-29, 4.23747741e-28,\n",
       "       1.00000000e+00, 1.71528872e-26])"
      ]
     },
     "execution_count": 47,
     "metadata": {},
     "output_type": "execute_result"
    }
   ],
   "source": [
    "forward(x_train[100])[-1]"
   ]
  }
 ],
 "metadata": {
  "kernelspec": {
   "display_name": "Python 3",
   "language": "python",
   "name": "python3"
  },
  "language_info": {
   "codemirror_mode": {
    "name": "ipython",
    "version": 3
   },
   "file_extension": ".py",
   "mimetype": "text/x-python",
   "name": "python",
   "nbconvert_exporter": "python",
   "pygments_lexer": "ipython3",
   "version": "3.8.3"
  }
 },
 "nbformat": 4,
 "nbformat_minor": 4
}
