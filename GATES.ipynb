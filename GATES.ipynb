{
 "cells": [
  {
   "cell_type": "markdown",
   "metadata": {},
   "source": [
    "### Logic gates using neural networks\n",
    "XOR is quite hard to model as its not a linear separable function. "
   ]
  },
  {
   "cell_type": "code",
   "execution_count": 1,
   "metadata": {},
   "outputs": [
    {
     "name": "stderr",
     "output_type": "stream",
     "text": [
      "100%|█████████████████████████████████████████████████████████████████████████████| 2000/2000 [00:02<00:00, 717.09it/s]\n",
      "100%|█████████████████████████████████████████████████████████████████████████████| 2000/2000 [00:05<00:00, 393.25it/s]\n",
      "100%|█████████████████████████████████████████████████████████████████████████████| 2000/2000 [00:04<00:00, 435.18it/s]\n",
      "100%|█████████████████████████████████████████████████████████████████████████████| 2000/2000 [00:02<00:00, 950.47it/s]\n"
     ]
    }
   ],
   "source": [
    "import dl\n",
    "import matplotlib.pyplot as plt\n",
    "\n",
    "x = [[0, 0], [1, 0], [0, 1], [1, 1]]\n",
    "and_y = [[0], [0], [0], [1]]\n",
    "or_y = [[0], [1], [1], [1]]\n",
    "xor_y = [[0], [1], [1], [0]]\n",
    "not_x = [[0], [1]]\n",
    "not_y = [[1], [0]]\n",
    "\n",
    "lr, beta, epochs = 2e-1, 0.99, 2000\n",
    "\n",
    "and_model = dl.Model([2, 2, 1], ['none', 'sigmoid', 'sigmoid'], 'CUSTOM', 1e-2, 1e-1)\n",
    "and_model.comp('ce', dl.Adam(and_model.params(), lr, beta))\n",
    "or_model = dl.Model([2, 2, 1], ['none', 'sigmoid', 'sigmoid'], 'CUSTOM', 1e-2, 1e-1)\n",
    "or_model.comp('ce', dl.Adam(or_model.params(), lr, beta))\n",
    "xor_model = dl.Model([2, 2, 1], ['none', 'sigmoid', 'relu'], 'CUSTOM', 1e-2, 1e-1)\n",
    "xor_model.comp('ce', dl.Adam(xor_model.params(), lr, beta))\n",
    "not_model = dl.Model([1, 2, 1], ['none', 'sigmoid', 'sigmoid'], 'CUSTOM', 1e-2, 1e-1)\n",
    "not_model.comp('ce', dl.Adam(not_model.params(), lr, beta))\n",
    "\n",
    "out = and_model.fit((x, and_y), epochs=epochs, batch_size=4)\n",
    "out = or_model.fit((x, or_y), epochs=epochs, batch_size=4)\n",
    "out = xor_model.fit((x, xor_y), epochs=epochs, batch_size=4)\n",
    "out = not_model.fit((not_x, not_y), epochs=epochs, batch_size=2)"
   ]
  },
  {
   "cell_type": "code",
   "execution_count": 2,
   "metadata": {},
   "outputs": [],
   "source": [
    "def n_and(a, b):\n",
    "    return and_model.forward([a, b])[0]\n",
    "\n",
    "def n_or(a, b):\n",
    "    return or_model.forward([a, b])[0]\n",
    "\n",
    "def n_xor(a, b):\n",
    "    return xor_model.forward([a, b])[0]\n",
    "\n",
    "def n_not(a):\n",
    "    return not_model.forward([a])[0]"
   ]
  },
  {
   "cell_type": "code",
   "execution_count": 3,
   "metadata": {},
   "outputs": [
    {
     "name": "stdout",
     "output_type": "stream",
     "text": [
      "AND\n",
      "0 and 0 = 0 \n",
      "1 and 0 = 0 \n",
      "0 and 1 = 0 \n",
      "1 and 1 = 1 \n",
      "\n",
      "NN\n",
      "0 and 0 = 2.937740688188725e-10 \n",
      "1 and 0 = 2.8974741823080798e-08 \n",
      "0 and 1 = 2.897481452954669e-08 \n",
      "1 and 1 = 0.9999998718411944\n"
     ]
    }
   ],
   "source": [
    "print('AND\\n0 and 0 =', 0, '\\n1 and 0 =', 0, '\\n0 and 1 =', 0, '\\n1 and 1 =', 1, '\\n')\n",
    "print('NN\\n0 and 0 =', n_and(0, 0), '\\n1 and 0 =', n_and(1, 0), '\\n0 and 1 =', n_and(0, 1), '\\n1 and 1 =', n_and(1, 1))"
   ]
  },
  {
   "cell_type": "code",
   "execution_count": 4,
   "metadata": {},
   "outputs": [
    {
     "name": "stdout",
     "output_type": "stream",
     "text": [
      "OR\n",
      "0 or 0 = 0 \n",
      "1 or 0 = 1 \n",
      "0 or 1 = 1 \n",
      "1 or 1 = 1 \n",
      "\n",
      "NN\n",
      "0 or 0 = 1.5892586875450116e-07 \n",
      "1 or 0 = 0.9999999697406303 \n",
      "0 or 1 = 0.9999999698259074 \n",
      "1 or 1 = 0.9999998718411944\n"
     ]
    }
   ],
   "source": [
    "print('OR\\n0 or 0 =', 0, '\\n1 or 0 =', 1, '\\n0 or 1 =', 1, '\\n1 or 1 =', 1, '\\n')\n",
    "print('NN\\n0 or 0 =', n_or(0, 0), '\\n1 or 0 =', n_or(1, 0), '\\n0 or 1 =', n_or(0, 1), '\\n1 or 1 =', n_and(1, 1))"
   ]
  },
  {
   "cell_type": "code",
   "execution_count": 5,
   "metadata": {},
   "outputs": [
    {
     "name": "stdout",
     "output_type": "stream",
     "text": [
      "XOR\n",
      "0 xor 0 = 0 \n",
      "1 xor 0 = 1 \n",
      "0 xor 1 = 1 \n",
      "1 xor 1 = 0 \n",
      "\n",
      "NN\n",
      "0 xor 0 = 0.11228697775183051 \n",
      "1 xor 0 = 0.09089425472498062 \n",
      "0 xor 1 = 0.09087317976254375 \n",
      "1 xor 1 = 0.07385458949770929\n"
     ]
    }
   ],
   "source": [
    "print('XOR\\n0 xor 0 =', 0, '\\n1 xor 0 =', 1, '\\n0 xor 1 =', 1, '\\n1 xor 1 =', 0, '\\n')\n",
    "print('NN\\n0 xor 0 =', n_xor(0, 0), '\\n1 xor 0 =', n_xor(1, 0), '\\n0 xor 1 =', n_xor(0, 1), '\\n1 xor 1 =', n_xor(1, 1))"
   ]
  },
  {
   "cell_type": "code",
   "execution_count": 6,
   "metadata": {},
   "outputs": [
    {
     "name": "stdout",
     "output_type": "stream",
     "text": [
      "NOT\n",
      "not 1 = 0 \n",
      "not 0 = 1 \n",
      "\n",
      "NN\n",
      "not 1 = 2.6480601166457236e-08 \n",
      "not 0 = 0.9999999735096956\n"
     ]
    }
   ],
   "source": [
    "print('NOT\\nnot 1 =', 0, '\\nnot 0 =', 1, '\\n')\n",
    "print('NN\\nnot 1 =', n_not(1), '\\nnot 0 =', n_not(0))"
   ]
  }
 ],
 "metadata": {
  "kernelspec": {
   "display_name": "Python 3",
   "language": "python",
   "name": "python3"
  },
  "language_info": {
   "codemirror_mode": {
    "name": "ipython",
    "version": 3
   },
   "file_extension": ".py",
   "mimetype": "text/x-python",
   "name": "python",
   "nbconvert_exporter": "python",
   "pygments_lexer": "ipython3",
   "version": "3.8.3"
  }
 },
 "nbformat": 4,
 "nbformat_minor": 4
}
