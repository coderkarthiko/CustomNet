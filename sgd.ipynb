{
 "cells": [
  {
   "cell_type": "markdown",
   "metadata": {},
   "source": [
    "## SGD with and without momentum comparison.\n",
    "Default SGD is just SGD with zero momentum. As we see below, we converge to a local minima ten times as fast as we would if we were to use default SGD. https://distill.pub/2017/momentum/ has a great explanation on what momentum is and why it works. I can implement it easily enough but I don't FULLY understand yet how it boosts SGD."
   ]
  },
  {
   "cell_type": "code",
   "execution_count": 1,
   "metadata": {},
   "outputs": [],
   "source": [
    "import numpy as np\n",
    "import customnet as cn"
   ]
  },
  {
   "cell_type": "code",
   "execution_count": 2,
   "metadata": {},
   "outputs": [],
   "source": [
    "x = [np.array([4, 7, 9, 3, 11, 12, 8, 6, 10, 14])]\n",
    "y = [np.array([0, 0, 1, 0, 0, 0, 0, 0, 0, 0])]"
   ]
  },
  {
   "cell_type": "code",
   "execution_count": 3,
   "metadata": {},
   "outputs": [
    {
     "name": "stderr",
     "output_type": "stream",
     "text": [
      "100%|████████████████████████████████████████████████████████████████████████████████| 10/10 [00:00<00:00, 2000.53it/s]\n"
     ]
    }
   ],
   "source": [
    "ALPHA = 1e-2\n",
    "BETA = 0.99 # momentum > 0\n",
    "EPOCHS = 10\n",
    "\n",
    "model = cn.Model([10, 10], ['sigmoid'])\n",
    "model.SGD(x, y, batch_size=1, loss_fn='ce', alpha=ALPHA, beta=BETA, epochs=EPOCHS)\n",
    "out = model.forward(x[0])\n",
    "loss = np.sum(np.abs(y[0] - out))"
   ]
  },
  {
   "cell_type": "code",
   "execution_count": 4,
   "metadata": {},
   "outputs": [
    {
     "name": "stdout",
     "output_type": "stream",
     "text": [
      "prediction -  [3.26706183e-07 4.50972260e-02 1.00000000e+00 9.96185815e-05\n",
      " 2.09501326e-09 1.46683820e-08 9.13126285e-03 9.54716666e-07\n",
      " 1.03309238e-06 1.29750933e-09] \n",
      "loss -  0.05433043997706527\n"
     ]
    }
   ],
   "source": [
    "print('prediction - ', out, '\\nloss - ', loss)"
   ]
  },
  {
   "cell_type": "code",
   "execution_count": 5,
   "metadata": {},
   "outputs": [
    {
     "name": "stderr",
     "output_type": "stream",
     "text": [
      "100%|██████████████████████████████████████████████████████████████████████████████| 100/100 [00:00<00:00, 4764.14it/s]\n"
     ]
    }
   ],
   "source": [
    "ALPHA = 1e-2\n",
    "BETA = 0 # momentum = 0 \n",
    "EPOCHS = 100\n",
    "\n",
    "model = cn.Model([10, 10], ['sigmoid'])\n",
    "model.SGD(x, y, batch_size=1, loss_fn='ce', alpha=ALPHA, beta=BETA, epochs=EPOCHS)\n",
    "out = model.forward(x[0])\n",
    "loss = np.sum(np.abs(y[0] - out))"
   ]
  },
  {
   "cell_type": "code",
   "execution_count": 6,
   "metadata": {},
   "outputs": [
    {
     "name": "stdout",
     "output_type": "stream",
     "text": [
      "prediction -  [0.02313518 0.02404158 1.         0.02015767 0.03691542 0.02646557\n",
      " 0.03887051 0.02491355 0.03374128 0.0259893 ] \n",
      "loss -  0.2542300525175338\n"
     ]
    }
   ],
   "source": [
    "print('prediction - ', out, '\\nloss - ', loss)"
   ]
  }
 ],
 "metadata": {
  "kernelspec": {
   "display_name": "Python 3",
   "language": "python",
   "name": "python3"
  },
  "language_info": {
   "codemirror_mode": {
    "name": "ipython",
    "version": 3
   },
   "file_extension": ".py",
   "mimetype": "text/x-python",
   "name": "python",
   "nbconvert_exporter": "python",
   "pygments_lexer": "ipython3",
   "version": "3.8.3"
  }
 },
 "nbformat": 4,
 "nbformat_minor": 4
}
