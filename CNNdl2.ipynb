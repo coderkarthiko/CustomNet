{
 "cells": [
  {
   "cell_type": "markdown",
   "metadata": {},
   "source": [
    "### CNNs using dl2!"
   ]
  },
  {
   "cell_type": "code",
   "execution_count": 1,
   "metadata": {},
   "outputs": [],
   "source": [
    "import dl2\n",
    "import numpy as np\n",
    "import matplotlib.pyplot as plt\n",
    "from tqdm import tqdm\n",
    "from tensorflow.keras.datasets import mnist"
   ]
  },
  {
   "cell_type": "code",
   "execution_count": 2,
   "metadata": {},
   "outputs": [],
   "source": [
    "(x_train, y_train), (x_test, y_test) = mnist.load_data()\n",
    "y_train, y_test = dl2.onehot(y_train, 10), dl2.onehot(y_test, 10)\n",
    "x_train, x_test = np.expand_dims(x_train, 3) / 255.0, np.expand_dims(x_test, 3) / 255.0"
   ]
  },
  {
   "cell_type": "markdown",
   "metadata": {},
   "source": [
    "### CNNs > MLPs at image recognition \n",
    "CNNs use feature maps and kernels $\\implies$ less visual information is lost and the sparsely connected nature of CNNs make them less susceptible to overfitting. "
   ]
  },
  {
   "cell_type": "code",
   "execution_count": 3,
   "metadata": {},
   "outputs": [],
   "source": [
    "net = dl2.NN()\n",
    "net.add(dl2.conv2d(filters=4, filters_dim=(4, 4), strides=(2, 2), activation='relu', input_dim=(28, 28, 1)))\n",
    "net.add(dl2.flatten(bias=True))\n",
    "net.add(dl2.dense(10, activation='softmax'))"
   ]
  },
  {
   "cell_type": "code",
   "execution_count": 4,
   "metadata": {},
   "outputs": [
    {
     "name": "stdout",
     "output_type": "stream",
     "text": [
      "{'input_dim': (28, 28, 1), 'output_dim': (13, 13, 4), 'bias': True, 'filters': 4, 'filters_dim': (4, 4), 'strides': (2, 2), 'layer': 'conv2d', 'activation': 'relu'}\n",
      "{'input_dim': (13, 13, 4), 'output_dim': 676, 'bias': True, 'layer': 'flatten', 'activation': 'none'}\n",
      "{'input_dim': 676, 'output_dim': 10, 'layer': 'dense', 'activation': 'softmax'}\n",
      "trainable parameters: 8186\n"
     ]
    }
   ],
   "source": [
    "net.init()\n",
    "net.info()"
   ]
  },
  {
   "cell_type": "code",
   "execution_count": 5,
   "metadata": {},
   "outputs": [
    {
     "data": {
      "text/plain": [
       "array([0.09841134, 0.09324758, 0.0854329 , 0.10186754, 0.08628335,\n",
       "       0.08634161, 0.09647029, 0.12815824, 0.09293121, 0.13085592])"
      ]
     },
     "execution_count": 5,
     "metadata": {},
     "output_type": "execute_result"
    }
   ],
   "source": [
    "net.forward(x_train[0])"
   ]
  },
  {
   "cell_type": "code",
   "execution_count": 6,
   "metadata": {},
   "outputs": [
    {
     "data": {
      "text/plain": [
       "10.05"
      ]
     },
     "execution_count": 6,
     "metadata": {},
     "output_type": "execute_result"
    }
   ],
   "source": [
    "dl2.accuracy(net, x_test, y_test)"
   ]
  },
  {
   "cell_type": "code",
   "execution_count": 7,
   "metadata": {},
   "outputs": [
    {
     "name": "stderr",
     "output_type": "stream",
     "text": [
      "100%|███████████████████████████████████████████████████████████████████████████| 60000/60000 [01:57<00:00, 509.12it/s]\n",
      "100%|███████████████████████████████████████████████████████████████████████████| 60000/60000 [02:01<00:00, 494.76it/s]\n",
      "100%|███████████████████████████████████████████████████████████████████████████| 60000/60000 [02:00<00:00, 498.83it/s]\n",
      "100%|███████████████████████████████████████████████████████████████████████████| 60000/60000 [02:04<00:00, 482.30it/s]\n",
      "100%|███████████████████████████████████████████████████████████████████████████| 60000/60000 [01:54<00:00, 523.52it/s]\n",
      "100%|███████████████████████████████████████████████████████████████████████████| 60000/60000 [01:41<00:00, 593.73it/s]\n",
      "100%|███████████████████████████████████████████████████████████████████████████| 60000/60000 [02:00<00:00, 497.93it/s]\n",
      "  3%|██▎                                                                         | 1863/60000 [00:04<02:04, 465.40it/s]C:\\Users\\rgbka\\Desktop\\Projects\\dl2.py:461: RuntimeWarning: divide by zero encountered in log\n",
      "  return - y * np.log(self.L[-1]) - (1 - y) * np.log(1 - self.L[-1])\n",
      "C:\\Users\\rgbka\\Desktop\\Projects\\dl2.py:461: RuntimeWarning: invalid value encountered in multiply\n",
      "  return - y * np.log(self.L[-1]) - (1 - y) * np.log(1 - self.L[-1])\n",
      "100%|███████████████████████████████████████████████████████████████████████████| 60000/60000 [01:51<00:00, 540.40it/s]\n",
      "100%|███████████████████████████████████████████████████████████████████████████| 60000/60000 [01:54<00:00, 524.97it/s]\n",
      "100%|███████████████████████████████████████████████████████████████████████████| 60000/60000 [01:40<00:00, 599.60it/s]\n"
     ]
    }
   ],
   "source": [
    "net.opt = dl2.Adam(net.params(), 5e-3, epsilon=1e-5)\n",
    "net.loss_fn = 'ce'\n",
    "history = net.fit(x_train, y_train, epochs=10, batch_size=10)"
   ]
  },
  {
   "cell_type": "code",
   "execution_count": 8,
   "metadata": {},
   "outputs": [
    {
     "data": {
      "text/plain": [
       "96.4"
      ]
     },
     "execution_count": 8,
     "metadata": {},
     "output_type": "execute_result"
    }
   ],
   "source": [
    "dl2.accuracy(net, x_test, y_test)"
   ]
  },
  {
   "cell_type": "markdown",
   "metadata": {},
   "source": [
    "### Visualizing weights and gradients"
   ]
  },
  {
   "cell_type": "code",
   "execution_count": 9,
   "metadata": {},
   "outputs": [
    {
     "data": {
      "image/png": "[encoded data removed]",
      "text/plain": [
       "<Figure size 720x720 with 4 Axes>"
      ]
     },
     "metadata": {
      "needs_background": "light"
     },
     "output_type": "display_data"
    }
   ],
   "source": [
    "filters = net.W[0]\n",
    "fig = plt.figure(figsize=(10, 10))\n",
    "for i in range(4):\n",
    "    plt.subplot(2, 2, i + 1)\n",
    "    plt.axis('off')\n",
    "    plt.title(f'{i + 1}')\n",
    "    plt.imshow(filters[i][:, :, 0], cmap='gray')\n",
    "plt.show()"
   ]
  },
  {
   "cell_type": "code",
   "execution_count": 10,
   "metadata": {},
   "outputs": [
    {
     "data": {
      "text/plain": [
       "<matplotlib.image.AxesImage at 0x22e30031a00>"
      ]
     },
     "execution_count": 10,
     "metadata": {},
     "output_type": "execute_result"
    },
    {
     "data": {
      "image/png": "[encoded data removed]",
      "text/plain": [
       "<Figure size 432x288 with 1 Axes>"
      ]
     },
     "metadata": {
      "needs_background": "light"
     },
     "output_type": "display_data"
    }
   ],
   "source": [
    "plt.title('fclayer-w1')\n",
    "plt.imshow(net.W[-1])"
   ]
  },
  {
   "cell_type": "code",
   "execution_count": 11,
   "metadata": {},
   "outputs": [
    {
     "data": {
      "image/png": "[encoded data removed]",
      "text/plain": [
       "<Figure size 1440x1440 with 5 Axes>"
      ]
     },
     "metadata": {
      "needs_background": "light"
     },
     "output_type": "display_data"
    }
   ],
   "source": [
    "first_layer_grads = history['first_layer_grads']\n",
    "fig = plt.figure(figsize=(20, 20))\n",
    "for i in range(5):\n",
    "    plt.subplot(2, 5, i + 1)\n",
    "    plt.axis('off')\n",
    "    plt.title(f'$\\partial J/\\partial x_{i}$')\n",
    "    plt.imshow(first_layer_grads[i][:, :, 0])\n",
    "plt.show()"
   ]
  },
  {
   "cell_type": "markdown",
   "metadata": {},
   "source": [
    "### Loss and error plot "
   ]
  },
  {
   "cell_type": "code",
   "execution_count": 12,
   "metadata": {},
   "outputs": [
    {
     "data": {
      "image/png": "[encoded data removed]",
      "text/plain": [
       "<Figure size 432x288 with 1 Axes>"
      ]
     },
     "metadata": {
      "needs_background": "light"
     },
     "output_type": "display_data"
    }
   ],
   "source": [
    "plt.plot([np.sum(losses) for losses in history['losses']])\n",
    "plt.show()"
   ]
  },
  {
   "cell_type": "code",
   "execution_count": 13,
   "metadata": {},
   "outputs": [
    {
     "data": {
      "image/png": "[encoded data removed]",
      "text/plain": [
       "<Figure size 432x288 with 1 Axes>"
      ]
     },
     "metadata": {
      "needs_background": "light"
     },
     "output_type": "display_data"
    }
   ],
   "source": [
    "plt.plot([np.sum(errors) for errors in history['last_layer_grads']])\n",
    "plt.show()"
   ]
  }
 ],
 "metadata": {
  "kernelspec": {
   "display_name": "Python 3",
   "language": "python",
   "name": "python3"
  },
  "language_info": {
   "codemirror_mode": {
    "name": "ipython",
    "version": 3
   },
   "file_extension": ".py",
   "mimetype": "text/x-python",
   "name": "python",
   "nbconvert_exporter": "python",
   "pygments_lexer": "ipython3",
   "version": "3.8.3"
  }
 },
 "nbformat": 4,
 "nbformat_minor": 4
}
